{
 "cells": [
  {
   "cell_type": "markdown",
   "metadata": {
    "id": "mNQ-I1PUU-PH"
   },
   "source": [
    "# hw4 - NN pyTorch"
   ]
  },
  {
   "cell_type": "markdown",
   "metadata": {
    "id": "YcnUBhqMUdio"
   },
   "source": [
    "Во всем задании вы должны работать со входом из строк размером (длиной) 1024"
   ]
  },
  {
   "cell_type": "markdown",
   "metadata": {
    "id": "O4_UACT-T_dY"
   },
   "source": [
    "## Часть 1 Фурье"
   ]
  },
  {
   "cell_type": "markdown",
   "metadata": {
    "id": "0ENj9WzCU-SK"
   },
   "source": [
    "### Подготовка данных"
   ]
  },
  {
   "cell_type": "markdown",
   "metadata": {
    "id": "_MDgqWu9U-U-"
   },
   "source": [
    "Сгенерите данные (сигнал) любым пакетом для численного преобразования Фурье, [например](https://numpy.org/doc/stable/reference/generated/numpy.fft.fft.html#numpy.fft.fft)"
   ]
  },
  {
   "cell_type": "code",
   "execution_count": null,
   "metadata": {
    "id": "IbSGi7csVlYZ"
   },
   "outputs": [],
   "source": []
  },
  {
   "cell_type": "markdown",
   "metadata": {
    "id": "Em0erMH6WyEV"
   },
   "source": [
    "### Соберите и обучите нейросетку на pyTroch для преобразования Фурье"
   ]
  },
  {
   "cell_type": "code",
   "execution_count": null,
   "metadata": {
    "id": "KqC_5cbgWyML"
   },
   "outputs": [],
   "source": []
  },
  {
   "cell_type": "markdown",
   "metadata": {
    "id": "R08QEdnPU-X5"
   },
   "source": [
    "### Сравните свое решение с пакетным методом"
   ]
  },
  {
   "cell_type": "code",
   "execution_count": null,
   "metadata": {
    "id": "I-Kw6bNqPUoj"
   },
   "outputs": [],
   "source": []
  },
  {
   "cell_type": "markdown",
   "metadata": {
    "id": "ELvl6uKPVRkQ"
   },
   "source": [
    "## Часть 2 Power spectral density (dB)"
   ]
  },
  {
   "cell_type": "markdown",
   "metadata": {
    "id": "iRmBr8VRWolP"
   },
   "source": [
    "### Подготовка данных"
   ]
  },
  {
   "cell_type": "markdown",
   "metadata": {
    "id": "5oYYsgNRasfs"
   },
   "source": [
    "Используя пакетное решение, [например](https://docs.scipy.org/doc/scipy/reference/generated/scipy.signal.periodogram.html), подготовьте обучающую выборку."
   ]
  },
  {
   "cell_type": "code",
   "execution_count": null,
   "metadata": {
    "id": "Bc74w6f_WotV"
   },
   "outputs": [],
   "source": []
  },
  {
   "cell_type": "markdown",
   "metadata": {
    "id": "gOSFp3Y9cO4r"
   },
   "source": [
    "### Соберите и обучите нейросеть для предсказания спектральной плотности мощности"
   ]
  },
  {
   "cell_type": "markdown",
   "metadata": {
    "id": "biFb-0hPcqk6"
   },
   "source": [
    "*Подсказка: для входа 1024 выход будет 512*"
   ]
  },
  {
   "cell_type": "code",
   "execution_count": null,
   "metadata": {
    "id": "yD-jrz7CcPAo"
   },
   "outputs": [],
   "source": []
  },
  {
   "cell_type": "markdown",
   "metadata": {
    "id": "eZUr_fy6WxEI"
   },
   "source": [
    "### Провалидируйте свое решение"
   ]
  },
  {
   "cell_type": "markdown",
   "metadata": {
    "id": "brMFI4kTXLL_"
   },
   "source": [
    "*Примечание: Для сдачи достаточно качественного соответствия по форме спектра с пакетным решением*"
   ]
  },
  {
   "cell_type": "code",
   "execution_count": null,
   "metadata": {
    "id": "e_vb2_cxVyWP"
   },
   "outputs": [],
   "source": []
  }
 ],
 "metadata": {
  "colab": {
   "collapsed_sections": [],
   "provenance": [],
   "toc_visible": true
  },
  "kernelspec": {
   "display_name": "Python 3 (ipykernel)",
   "language": "python",
   "name": "python3"
  },
  "language_info": {
   "codemirror_mode": {
    "name": "ipython",
    "version": 3
   },
   "file_extension": ".py",
   "mimetype": "text/x-python",
   "name": "python",
   "nbconvert_exporter": "python",
   "pygments_lexer": "ipython3",
   "version": "3.11.4"
  }
 },
 "nbformat": 4,
 "nbformat_minor": 4
}
