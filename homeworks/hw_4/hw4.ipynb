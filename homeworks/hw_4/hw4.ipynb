{
 "cells": [
  {
   "cell_type": "markdown",
   "metadata": {
    "id": "mNQ-I1PUU-PH"
   },
   "source": [
    "# hw4 - NN pyTorch"
   ]
  },
  {
   "cell_type": "markdown",
   "metadata": {
    "id": "YcnUBhqMUdio"
   },
   "source": [
    "Во всем задании вы должны работать со входом из строк размером (длиной) 1024"
   ]
  },
  {
   "cell_type": "code",
   "execution_count": 185,
   "metadata": {},
   "outputs": [],
   "source": [
    "import numpy as np\n",
    "import pandas as pd\n",
    "from scipy import signal\n",
    "import scipy as sc\n",
    "import matplotlib.pyplot as plt\n",
    "import random\n",
    "import itertools\n",
    "from inspect import signature\n",
    "from tqdm import tqdm"
   ]
  },
  {
   "cell_type": "code",
   "execution_count": 43,
   "metadata": {},
   "outputs": [],
   "source": [
    "import torch\n",
    "from sklearn.model_selection import train_test_split"
   ]
  },
  {
   "cell_type": "markdown",
   "metadata": {
    "id": "O4_UACT-T_dY"
   },
   "source": [
    "## Часть 1 Фурье"
   ]
  },
  {
   "cell_type": "markdown",
   "metadata": {
    "id": "0ENj9WzCU-SK"
   },
   "source": [
    "### Подготовка данных"
   ]
  },
  {
   "cell_type": "markdown",
   "metadata": {
    "id": "_MDgqWu9U-U-"
   },
   "source": [
    "Сгенерите данные (сигнал) любым пакетом для численного преобразования Фурье, [например](https://numpy.org/doc/stable/reference/generated/numpy.fft.fft.html#numpy.fft.fft)"
   ]
  },
  {
   "cell_type": "code",
   "execution_count": 49,
   "metadata": {},
   "outputs": [],
   "source": [
    "t = np.arange(1024)"
   ]
  },
  {
   "cell_type": "code",
   "execution_count": 55,
   "metadata": {},
   "outputs": [],
   "source": [
    "def generate_random_signal(function, parameters_grid, t):\n",
    "    generated_parameters = {}\n",
    "    for param, values in parameters_grid.items():\n",
    "        if values == 'float':\n",
    "            param_value = random.uniform(-1000.0, 1000.0)\n",
    "        elif values == 'int':\n",
    "            param_value = random.randint(-1000, 1000)\n",
    "        elif values[:4] == 'arr(':\n",
    "            par_str = values[4:-1]\n",
    "            start, end, *param_lens = list(map(int, par_str.split(',')))\n",
    "            if len(param_lens) == 1:\n",
    "                param_len = param_lens[0]\n",
    "            else:\n",
    "                param_len = random.randint(param_len[0], param_len[1])\n",
    "            if param_len != 1:\n",
    "                param_value = [random.uniform(start, end) for i in range(param_len)]\n",
    "            else:\n",
    "                param_value = random.uniform(start, end)\n",
    "        elif values == 'int+float':\n",
    "            rand_float = random.uniform(-1000.0, 1000.0)\n",
    "            rand_int = random.randint(-1000, 1000)\n",
    "            param_value = random.choice([rand_int, rand_float])\n",
    "        elif values[:6] == 'float(':\n",
    "            # range generator\n",
    "            val_range = values[6:-1]\n",
    "            val_range = list(map(float, val_range.split(',')))\n",
    "            param_value = random.uniform(val_range[0], val_range[1])\n",
    "        elif values[:4] == 'int(':\n",
    "            val_range = values[4:-1]\n",
    "            val_range = list(map(int, val_range.split(',')))\n",
    "            # range generator\n",
    "            param_value = random.randint(val_range[0], val_range[1])\n",
    "        else:\n",
    "            param_value = random.choice(values)\n",
    "        generated_parameters[param] = param_value\n",
    "    return function(t, **generated_parameters)"
   ]
  },
  {
   "cell_type": "code",
   "execution_count": 68,
   "metadata": {},
   "outputs": [],
   "source": [
    "def generate_signals_by_grid(function, parameters_grid, t):\n",
    "    params_names = list(parameters_grid.keys())\n",
    "    params_values = []\n",
    "    for name in params_names:\n",
    "        params_values.append(parameters_grid[name])\n",
    "    signals = []\n",
    "    for param_pair in list(product(*params_values)):\n",
    "        params = {params_names[i]: param_pair[i] for i in range(len(param_pair))}\n",
    "        signals.append(function(t, **params))\n",
    "\n",
    "    return signals"
   ]
  },
  {
   "cell_type": "code",
   "execution_count": 106,
   "metadata": {},
   "outputs": [],
   "source": [
    "DATASET_FILENAME = 'dataset.csv'"
   ]
  },
  {
   "cell_type": "code",
   "execution_count": 107,
   "metadata": {},
   "outputs": [],
   "source": [
    "def generate_random_dataset(t, funcs, size, batch_size, filename):\n",
    "    with open(filename, 'w') as f:\n",
    "        sig_h = [f'signal_t{i}' for i in range(1024)]\n",
    "        fur_h = [f'fourier_t{i}' for i in range(1024)]\n",
    "        f.write(','.join(sig_h + fur_h) + '\\n')\n",
    "    \n",
    "    for func_name, func in funcs.items():\n",
    "        batch = []\n",
    "        for i in range(size):\n",
    "            gen_sig = generate_random_signal(func['function'], func['params_grid'], t)\n",
    "            gen_fur = np.fft.fft(gen_sig)\n",
    "            line = np.concatenate((gen_sig, gen_fur))\n",
    "            batch.append(line)\n",
    "            if len(batch) > batch_size:\n",
    "                batch = np.array(batch)\n",
    "                with open(filename, 'ab') as csv_file:\n",
    "                    np.savetxt(csv_file, batch, delimiter=\",\")\n",
    "                batch = []"
   ]
  },
  {
   "cell_type": "code",
   "execution_count": 131,
   "metadata": {},
   "outputs": [],
   "source": [
    "functions_random = {\n",
    "    'sin': {\n",
    "        'function': lambda t, scale, var, bias: np.sin(scale * t + var) + bias,\n",
    "        'params_grid': {'scale': 'float', 'var': 'float', 'bias': 'float'}\n",
    "    },\n",
    "    'line': {\n",
    "        'function': lambda t, a, b: a*t+b,\n",
    "        'params_grid': {'a': 'float', 'b': 'float'}\n",
    "    },\n",
    "    'exp': {\n",
    "        'function': lambda t, a, b, c, d: c*np.exp(a*t+b)+d,\n",
    "        'params_grid': {'a': 'float(-50,50)', 'b': 'float(-50,50)', 'c': 'float', 'd': 'float'}\n",
    "    },\n",
    "    'log': {\n",
    "        'function': lambda t, a, b, c, d: c*np.log(np.abs(a * t + b) + 1)+d,\n",
    "        'params_grid': {'a': 'float', 'b': 'float', 'c': 'float', 'd': 'float'}\n",
    "    },\n",
    "    # 'pow': {\n",
    "    #     'function': lambda t, power, a, b, c, d: c*((a * t + b) ** power)+d,\n",
    "    #     'params_grid': {'power': 'int+float', 'a': 'float', 'b': 'float', 'c': 'float', 'd': 'float'}\n",
    "    # },\n",
    "    'chirp': {\n",
    "        'function': lambda t, f0, f1, t1, method, phi: signal.chirp(t, f0, f1, t1, method, phi),\n",
    "        'params_grid': {'f0': 'float', 'f1': 'float', 't1': 'float', 'method': ['linear', 'quadratic'], 'phi': 'float'}\n",
    "    },\n",
    "    'gausspulse': {\n",
    "        'function': lambda t, fc, bw, bwr, tpr: signal.gausspulse(t, fc, bw, bwr, tpr),\n",
    "        'params_grid': {'fc': 'float(0,1000)', 'bw': 'float(0,1000)', 'bwr': 'float(-200,0)', 'tpr': 'float'}\n",
    "    },\n",
    "    'sawtooth': {\n",
    "        'function': lambda t, width: signal.sawtooth(t, width),\n",
    "        'params_grid': {'width': 'float(0,1)'}\n",
    "    },\n",
    "    'square': {\n",
    "        'function': lambda t, duty: signal.square(t, duty),\n",
    "        'params_grid': {'duty': 'float(0,1)'}\n",
    "    },\n",
    "    # 'sweep_poly': {\n",
    "    #     'function': lambda t, poly, phi: signal.sweep_poly(t, poly, phi),\n",
    "    #     'params_grid': {'poly': 'arr(-100,100,1,10)', 'phi': 'float'}\n",
    "    # },\n",
    "    'random_noise': {\n",
    "        'function': lambda t, mean, var: np.random.normal(mean, var, len(t)),\n",
    "        'params_grid': {'mean': 'float', 'var': 'float(0,1000)'}\n",
    "    },\n",
    "    'unit_impulse': {\n",
    "        'function': lambda t, idx: signal.unit_impulse(len(t), idx),\n",
    "        'params_grid': {'idx': 'int'}\n",
    "    },\n",
    "\n",
    "}"
   ]
  },
  {
   "cell_type": "code",
   "execution_count": 109,
   "metadata": {},
   "outputs": [],
   "source": [
    "functions_grid = {\n",
    "    'sin': {\n",
    "        'function': lambda t, scale, var, bias: np.sin(scale * t + var) + bias,\n",
    "        'params_grid': {'scale': [0.25 * (i+1) * np.pi for i in range(20)], 'var': 'float', 'bias': [-10.0 + (i+1) * 0.5 for i in range(40)]}\n",
    "    },\n",
    "    'line': {\n",
    "        'function': lambda t, a, b: a*t+b,\n",
    "        'params_grid': {'a': [-10.0 + 0.5 * i for i in range(40)], 'b': [-10.0 + 0.5 * i for i in range(40)]}\n",
    "    },\n",
    "    'exp': {\n",
    "        'function': lambda t, a, b, c, d: c*np.exp(a*t+b)+d,\n",
    "        'params_grid': {'a': [-10.0 + 0.5 * i for i in range(40)], 'b': [-10.0 + 0.5 * i for i in range(40)], 'c': [-10.0 + 0.5 * i for i in range(40)], 'd': [-10.0 + 0.5 * i for i in range(40)]}\n",
    "    },\n",
    "    'log': {\n",
    "        'function': lambda t, a, b, c, d: c*np.log(np.abs(a * t + b) + 1)+d,\n",
    "        'params_grid': {'a': [-10.0 + 0.5 * i for i in range(40)], 'b': [-10.0 + 0.5 * i for i in range(40)], 'c': [-10.0 + 0.5 * i for i in range(40)], 'd': [-10.0 + 0.5 * i for i in range(40)]}\n",
    "    },\n",
    "    'pow': {\n",
    "        'function': lambda t, pow, a, b, c, d: c*np.pow(a * t + b, pow)+d,\n",
    "        'params_grid': {'pow': [-10.0 + 0.5 * i for i in range(40)], 'a': [-10.0 + 0.5 * i for i in range(40)], 'b': [-10.0 + 0.5 * i for i in range(40)], 'c': [-10.0 + 0.5 * i for i in range(40)], 'd': [-10.0 + 0.5 * i for i in range(40)]}\n",
    "    },\n",
    "}"
   ]
  },
  {
   "cell_type": "code",
   "execution_count": 132,
   "metadata": {},
   "outputs": [
    {
     "name": "stderr",
     "output_type": "stream",
     "text": [
      "/tmp/ipykernel_4251/2777498442.py:11: RuntimeWarning: overflow encountered in exp\n",
      "  'function': lambda t, a, b, c, d: c*np.exp(a*t+b)+d,\n",
      "/tmp/ipykernel_4251/2777498442.py:11: RuntimeWarning: overflow encountered in multiply\n",
      "  'function': lambda t, a, b, c, d: c*np.exp(a*t+b)+d,\n"
     ]
    }
   ],
   "source": [
    "generate_random_dataset(t, functions_random, 1000, 100, DATASET_FILENAME)"
   ]
  },
  {
   "cell_type": "code",
   "execution_count": 145,
   "metadata": {},
   "outputs": [],
   "source": [
    "data = pd.read_csv(DATASET_FILENAME, sep=\",\")\n",
    "data = data.apply(lambda col: col.apply(lambda val: complex(val.strip())))"
   ]
  },
  {
   "cell_type": "code",
   "execution_count": 172,
   "metadata": {},
   "outputs": [],
   "source": [
    "X_data = data.iloc[:, :1024].to_numpy()\n",
    "X_data = torch.tensor(X_data, dtype=torch.cfloat)"
   ]
  },
  {
   "cell_type": "code",
   "execution_count": 173,
   "metadata": {},
   "outputs": [],
   "source": [
    "y_data = data.iloc[:, 1024:].to_numpy()\n",
    "y_data = torch.tensor(y_data, dtype=torch.cfloat)"
   ]
  },
  {
   "cell_type": "code",
   "execution_count": 174,
   "metadata": {},
   "outputs": [],
   "source": [
    "X_train, X_test, y_train, y_test = train_test_split(X_data, y_data, test_size=0.1, random_state=42, shuffle=True)"
   ]
  },
  {
   "cell_type": "code",
   "execution_count": 177,
   "metadata": {},
   "outputs": [
    {
     "data": {
      "text/plain": [
       "torch.Size([909, 1024])"
      ]
     },
     "execution_count": 177,
     "metadata": {},
     "output_type": "execute_result"
    }
   ],
   "source": [
    "X_test.size()"
   ]
  },
  {
   "cell_type": "markdown",
   "metadata": {
    "id": "Em0erMH6WyEV"
   },
   "source": [
    "### Соберите и обучите нейросетку на pyTroch для преобразования Фурье"
   ]
  },
  {
   "cell_type": "code",
   "execution_count": 179,
   "metadata": {
    "id": "KqC_5cbgWyML"
   },
   "outputs": [],
   "source": [
    "D_in = 1024\n",
    "D_out = 1024\n",
    "\n",
    "model = torch.nn.Sequential(\n",
    "    torch.nn.Linear(2 * D_in, 1024),\n",
    "    torch.nn.BatchNorm1d(1024),\n",
    "    torch.nn.ReLU(),\n",
    "    torch.nn.Linear(1024, 2 * D_out),\n",
    ")"
   ]
  },
  {
   "cell_type": "code",
   "execution_count": 180,
   "metadata": {},
   "outputs": [],
   "source": [
    "def batch_train(model, loss_fn, optimizer, x, y):\n",
    "    y_pred = model(x)\n",
    "    loss = loss_fn(y_pred, y)\n",
    "    model.zero_grad()\n",
    "    loss.backward()\n",
    "    optimizer.step()\n",
    "    return (loss.item())"
   ]
  },
  {
   "cell_type": "code",
   "execution_count": 188,
   "metadata": {},
   "outputs": [],
   "source": [
    "def train(model, n_epochs, batch_size, loss_fn, optimizer, X, y, X_test, y_test):\n",
    "    acc_train_all = []\n",
    "    loss_train_all = []\n",
    "    acc_test_all = []\n",
    "    loss_test_all = []\n",
    "\n",
    "    for epoch in range(n_epochs):\n",
    "\n",
    "        permutation = torch.randperm(X.size()[0])\n",
    "\n",
    "        for i in tqdm(range(0,X.float().size()[0], batch_size)):\n",
    "            indices = permutation[i:i+batch_size]\n",
    "            batch_x, batch_y = X[indices], y[indices]\n",
    "            batch_train(model, loss_fn, optimizer, batch_x, batch_y)\n",
    "\n",
    "        y_test_pred = model(X_test)\n",
    "        y_train_pred = model(X)\n",
    "\n",
    "\n",
    "        acc_train = accuracy_score(y, y_train_pred.argmax(dim=1))\n",
    "        loss_train = loss_fn(y_train_pred, y).detach()\n",
    "        acc_test = accuracy_score(y_test, y_test_pred.argmax(dim=1))\n",
    "        loss_test = loss_fn(y_test_pred, y_test).detach()\n",
    "\n",
    "        acc_train_all = np.append(acc_train_all, acc_train)\n",
    "        loss_train_all = np.append(loss_train_all, loss_train)\n",
    "        acc_test_all = np.append(acc_test_all, acc_test)\n",
    "        loss_test_all = np.append(loss_test_all, loss_test)\n",
    "\n",
    "\n",
    "        print(f'Epoch {epoch}: \\n Accuracy - train: {acc_train} | test: {acc_test} \\n Loss - train: {loss_train} | test: {loss_test}')\n",
    "\n",
    "    return(acc_train_all, loss_train_all, acc_test_all, loss_test_all)"
   ]
  },
  {
   "cell_type": "code",
   "execution_count": 182,
   "metadata": {},
   "outputs": [],
   "source": [
    "def init_weights(m):\n",
    "    if type(m) == torch.nn.Linear:\n",
    "        torch.nn.init.kaiming_normal_(m.weight)\n",
    "        m.bias.data.fill_(0.01)"
   ]
  },
  {
   "cell_type": "code",
   "execution_count": 183,
   "metadata": {},
   "outputs": [],
   "source": [
    "def vis_history(acc_train_all, loss_train_all, acc_test_all, loss_test_all):\n",
    "    fig = plt.figure(figsize=(16, 4))\n",
    "\n",
    "    plt.subplot(1, 2, 1)\n",
    "\n",
    "    plt.plot(loss_train_all, label='loss')\n",
    "    plt.plot(loss_test_all, label='val_loss')\n",
    "\n",
    "    plt.legend()\n",
    "\n",
    "    plt.subplot(1, 2, 2)\n",
    "    plt.plot(acc_train_all, label='acc')\n",
    "    plt.plot(acc_test_all, label='val_acc')\n",
    "\n",
    "    plt.legend()\n",
    "    plt.show()"
   ]
  },
  {
   "cell_type": "code",
   "execution_count": 184,
   "metadata": {},
   "outputs": [],
   "source": [
    "optimizerAdam = torch.optim.Adam(model.parameters(), lr=0.01)\n",
    "model = model.apply(init_weights)\n",
    "loss_fn = torch.nn.MSELoss()"
   ]
  },
  {
   "cell_type": "code",
   "execution_count": 159,
   "metadata": {},
   "outputs": [],
   "source": [
    "n_epochs = 10\n",
    "batch_size = 1000\n",
    "learning_rate = 1e-3"
   ]
  },
  {
   "cell_type": "code",
   "execution_count": 189,
   "metadata": {},
   "outputs": [
    {
     "name": "stderr",
     "output_type": "stream",
     "text": [
      "  0%|                                                     | 0/9 [00:00<?, ?it/s]\n"
     ]
    },
    {
     "ename": "RuntimeError",
     "evalue": "mat1 and mat2 must have the same dtype",
     "output_type": "error",
     "traceback": [
      "\u001b[0;31m---------------------------------------------------------------------------\u001b[0m",
      "\u001b[0;31mRuntimeError\u001b[0m                              Traceback (most recent call last)",
      "Cell \u001b[0;32mIn[189], line 2\u001b[0m\n\u001b[1;32m      1\u001b[0m acc_train_all, loss_train_all, acc_test_all, loss_test_all \u001b[38;5;241m=\u001b[39m \\\n\u001b[0;32m----> 2\u001b[0m           \u001b[43mtrain\u001b[49m\u001b[43m(\u001b[49m\u001b[43mmodel\u001b[49m\u001b[43m,\u001b[49m\u001b[43m \u001b[49m\u001b[43mn_epochs\u001b[49m\u001b[43m,\u001b[49m\u001b[43m \u001b[49m\u001b[43mbatch_size\u001b[49m\u001b[43m,\u001b[49m\u001b[43m \u001b[49m\u001b[43mloss_fn\u001b[49m\u001b[43m,\u001b[49m\u001b[43m \u001b[49m\u001b[43moptimizerAdam\u001b[49m\u001b[43m,\u001b[49m\u001b[43m \u001b[49m\u001b[43mX_train\u001b[49m\u001b[43m,\u001b[49m\u001b[43m \u001b[49m\u001b[43my_train\u001b[49m\u001b[43m,\u001b[49m\u001b[43m \u001b[49m\u001b[43mX_test\u001b[49m\u001b[43m,\u001b[49m\u001b[43m \u001b[49m\u001b[43my_test\u001b[49m\u001b[43m)\u001b[49m\n",
      "Cell \u001b[0;32mIn[188], line 14\u001b[0m, in \u001b[0;36mtrain\u001b[0;34m(model, n_epochs, batch_size, loss_fn, optimizer, X, y, X_test, y_test)\u001b[0m\n\u001b[1;32m     12\u001b[0m     indices \u001b[38;5;241m=\u001b[39m permutation[i:i\u001b[38;5;241m+\u001b[39mbatch_size]\n\u001b[1;32m     13\u001b[0m     batch_x, batch_y \u001b[38;5;241m=\u001b[39m X[indices], y[indices]\n\u001b[0;32m---> 14\u001b[0m     \u001b[43mbatch_train\u001b[49m\u001b[43m(\u001b[49m\u001b[43mmodel\u001b[49m\u001b[43m,\u001b[49m\u001b[43m \u001b[49m\u001b[43mloss_fn\u001b[49m\u001b[43m,\u001b[49m\u001b[43m \u001b[49m\u001b[43moptimizer\u001b[49m\u001b[43m,\u001b[49m\u001b[43m \u001b[49m\u001b[43mbatch_x\u001b[49m\u001b[43m,\u001b[49m\u001b[43m \u001b[49m\u001b[43mbatch_y\u001b[49m\u001b[43m)\u001b[49m\n\u001b[1;32m     16\u001b[0m y_test_pred \u001b[38;5;241m=\u001b[39m model(X_test)\n\u001b[1;32m     17\u001b[0m y_train_pred \u001b[38;5;241m=\u001b[39m model(X)\n",
      "Cell \u001b[0;32mIn[180], line 2\u001b[0m, in \u001b[0;36mbatch_train\u001b[0;34m(model, loss_fn, optimizer, x, y)\u001b[0m\n\u001b[1;32m      1\u001b[0m \u001b[38;5;28;01mdef\u001b[39;00m \u001b[38;5;21mbatch_train\u001b[39m(model, loss_fn, optimizer, x, y):\n\u001b[0;32m----> 2\u001b[0m     y_pred \u001b[38;5;241m=\u001b[39m \u001b[43mmodel\u001b[49m\u001b[43m(\u001b[49m\u001b[43mx\u001b[49m\u001b[43m)\u001b[49m\n\u001b[1;32m      3\u001b[0m     loss \u001b[38;5;241m=\u001b[39m loss_fn(y_pred, y)\n\u001b[1;32m      4\u001b[0m     model\u001b[38;5;241m.\u001b[39mzero_grad()\n",
      "File \u001b[0;32m~/.pyenv/versions/3.11.4/lib/python3.11/site-packages/torch/nn/modules/module.py:1501\u001b[0m, in \u001b[0;36mModule._call_impl\u001b[0;34m(self, *args, **kwargs)\u001b[0m\n\u001b[1;32m   1496\u001b[0m \u001b[38;5;66;03m# If we don't have any hooks, we want to skip the rest of the logic in\u001b[39;00m\n\u001b[1;32m   1497\u001b[0m \u001b[38;5;66;03m# this function, and just call forward.\u001b[39;00m\n\u001b[1;32m   1498\u001b[0m \u001b[38;5;28;01mif\u001b[39;00m \u001b[38;5;129;01mnot\u001b[39;00m (\u001b[38;5;28mself\u001b[39m\u001b[38;5;241m.\u001b[39m_backward_hooks \u001b[38;5;129;01mor\u001b[39;00m \u001b[38;5;28mself\u001b[39m\u001b[38;5;241m.\u001b[39m_backward_pre_hooks \u001b[38;5;129;01mor\u001b[39;00m \u001b[38;5;28mself\u001b[39m\u001b[38;5;241m.\u001b[39m_forward_hooks \u001b[38;5;129;01mor\u001b[39;00m \u001b[38;5;28mself\u001b[39m\u001b[38;5;241m.\u001b[39m_forward_pre_hooks\n\u001b[1;32m   1499\u001b[0m         \u001b[38;5;129;01mor\u001b[39;00m _global_backward_pre_hooks \u001b[38;5;129;01mor\u001b[39;00m _global_backward_hooks\n\u001b[1;32m   1500\u001b[0m         \u001b[38;5;129;01mor\u001b[39;00m _global_forward_hooks \u001b[38;5;129;01mor\u001b[39;00m _global_forward_pre_hooks):\n\u001b[0;32m-> 1501\u001b[0m     \u001b[38;5;28;01mreturn\u001b[39;00m \u001b[43mforward_call\u001b[49m\u001b[43m(\u001b[49m\u001b[38;5;241;43m*\u001b[39;49m\u001b[43margs\u001b[49m\u001b[43m,\u001b[49m\u001b[43m \u001b[49m\u001b[38;5;241;43m*\u001b[39;49m\u001b[38;5;241;43m*\u001b[39;49m\u001b[43mkwargs\u001b[49m\u001b[43m)\u001b[49m\n\u001b[1;32m   1502\u001b[0m \u001b[38;5;66;03m# Do not call functions when jit is used\u001b[39;00m\n\u001b[1;32m   1503\u001b[0m full_backward_hooks, non_full_backward_hooks \u001b[38;5;241m=\u001b[39m [], []\n",
      "File \u001b[0;32m~/.pyenv/versions/3.11.4/lib/python3.11/site-packages/torch/nn/modules/container.py:217\u001b[0m, in \u001b[0;36mSequential.forward\u001b[0;34m(self, input)\u001b[0m\n\u001b[1;32m    215\u001b[0m \u001b[38;5;28;01mdef\u001b[39;00m \u001b[38;5;21mforward\u001b[39m(\u001b[38;5;28mself\u001b[39m, \u001b[38;5;28minput\u001b[39m):\n\u001b[1;32m    216\u001b[0m     \u001b[38;5;28;01mfor\u001b[39;00m module \u001b[38;5;129;01min\u001b[39;00m \u001b[38;5;28mself\u001b[39m:\n\u001b[0;32m--> 217\u001b[0m         \u001b[38;5;28minput\u001b[39m \u001b[38;5;241m=\u001b[39m \u001b[43mmodule\u001b[49m\u001b[43m(\u001b[49m\u001b[38;5;28;43minput\u001b[39;49m\u001b[43m)\u001b[49m\n\u001b[1;32m    218\u001b[0m     \u001b[38;5;28;01mreturn\u001b[39;00m \u001b[38;5;28minput\u001b[39m\n",
      "File \u001b[0;32m~/.pyenv/versions/3.11.4/lib/python3.11/site-packages/torch/nn/modules/module.py:1501\u001b[0m, in \u001b[0;36mModule._call_impl\u001b[0;34m(self, *args, **kwargs)\u001b[0m\n\u001b[1;32m   1496\u001b[0m \u001b[38;5;66;03m# If we don't have any hooks, we want to skip the rest of the logic in\u001b[39;00m\n\u001b[1;32m   1497\u001b[0m \u001b[38;5;66;03m# this function, and just call forward.\u001b[39;00m\n\u001b[1;32m   1498\u001b[0m \u001b[38;5;28;01mif\u001b[39;00m \u001b[38;5;129;01mnot\u001b[39;00m (\u001b[38;5;28mself\u001b[39m\u001b[38;5;241m.\u001b[39m_backward_hooks \u001b[38;5;129;01mor\u001b[39;00m \u001b[38;5;28mself\u001b[39m\u001b[38;5;241m.\u001b[39m_backward_pre_hooks \u001b[38;5;129;01mor\u001b[39;00m \u001b[38;5;28mself\u001b[39m\u001b[38;5;241m.\u001b[39m_forward_hooks \u001b[38;5;129;01mor\u001b[39;00m \u001b[38;5;28mself\u001b[39m\u001b[38;5;241m.\u001b[39m_forward_pre_hooks\n\u001b[1;32m   1499\u001b[0m         \u001b[38;5;129;01mor\u001b[39;00m _global_backward_pre_hooks \u001b[38;5;129;01mor\u001b[39;00m _global_backward_hooks\n\u001b[1;32m   1500\u001b[0m         \u001b[38;5;129;01mor\u001b[39;00m _global_forward_hooks \u001b[38;5;129;01mor\u001b[39;00m _global_forward_pre_hooks):\n\u001b[0;32m-> 1501\u001b[0m     \u001b[38;5;28;01mreturn\u001b[39;00m \u001b[43mforward_call\u001b[49m\u001b[43m(\u001b[49m\u001b[38;5;241;43m*\u001b[39;49m\u001b[43margs\u001b[49m\u001b[43m,\u001b[49m\u001b[43m \u001b[49m\u001b[38;5;241;43m*\u001b[39;49m\u001b[38;5;241;43m*\u001b[39;49m\u001b[43mkwargs\u001b[49m\u001b[43m)\u001b[49m\n\u001b[1;32m   1502\u001b[0m \u001b[38;5;66;03m# Do not call functions when jit is used\u001b[39;00m\n\u001b[1;32m   1503\u001b[0m full_backward_hooks, non_full_backward_hooks \u001b[38;5;241m=\u001b[39m [], []\n",
      "File \u001b[0;32m~/.pyenv/versions/3.11.4/lib/python3.11/site-packages/torch/nn/modules/linear.py:114\u001b[0m, in \u001b[0;36mLinear.forward\u001b[0;34m(self, input)\u001b[0m\n\u001b[1;32m    113\u001b[0m \u001b[38;5;28;01mdef\u001b[39;00m \u001b[38;5;21mforward\u001b[39m(\u001b[38;5;28mself\u001b[39m, \u001b[38;5;28minput\u001b[39m: Tensor) \u001b[38;5;241m-\u001b[39m\u001b[38;5;241m>\u001b[39m Tensor:\n\u001b[0;32m--> 114\u001b[0m     \u001b[38;5;28;01mreturn\u001b[39;00m \u001b[43mF\u001b[49m\u001b[38;5;241;43m.\u001b[39;49m\u001b[43mlinear\u001b[49m\u001b[43m(\u001b[49m\u001b[38;5;28;43minput\u001b[39;49m\u001b[43m,\u001b[49m\u001b[43m \u001b[49m\u001b[38;5;28;43mself\u001b[39;49m\u001b[38;5;241;43m.\u001b[39;49m\u001b[43mweight\u001b[49m\u001b[43m,\u001b[49m\u001b[43m \u001b[49m\u001b[38;5;28;43mself\u001b[39;49m\u001b[38;5;241;43m.\u001b[39;49m\u001b[43mbias\u001b[49m\u001b[43m)\u001b[49m\n",
      "\u001b[0;31mRuntimeError\u001b[0m: mat1 and mat2 must have the same dtype"
     ]
    }
   ],
   "source": [
    "acc_train_all, loss_train_all, acc_test_all, loss_test_all = \\\n",
    "          train(model, n_epochs, batch_size, loss_fn, optimizerAdam, X_train, y_train, X_test, y_test)"
   ]
  },
  {
   "cell_type": "code",
   "execution_count": null,
   "metadata": {},
   "outputs": [],
   "source": [
    "vis_history(acc_train_all, loss_train_all, acc_test_all, loss_test_all)"
   ]
  },
  {
   "cell_type": "markdown",
   "metadata": {
    "id": "R08QEdnPU-X5"
   },
   "source": [
    "### Сравните свое решение с пакетным методом"
   ]
  },
  {
   "cell_type": "code",
   "execution_count": null,
   "metadata": {
    "id": "I-Kw6bNqPUoj"
   },
   "outputs": [],
   "source": [
    "signal_1 = np.sin(t)\n",
    "signal_2 = signal.square(0.05 * np.pi * t)\n",
    "plt.plot(t, signal_2)\n",
    "plt.show()"
   ]
  },
  {
   "cell_type": "code",
   "execution_count": null,
   "metadata": {},
   "outputs": [],
   "source": [
    "sp = np.fft.fft(signal_2)\n",
    "freq = np.fft.fftfreq(t.shape[-1])\n",
    "plt.plot(freq, sp.real, freq, sp.imag)\n",
    "plt.show()"
   ]
  },
  {
   "cell_type": "markdown",
   "metadata": {
    "id": "ELvl6uKPVRkQ"
   },
   "source": [
    "## Часть 2 Power spectral density (dB)"
   ]
  },
  {
   "cell_type": "markdown",
   "metadata": {
    "id": "iRmBr8VRWolP"
   },
   "source": [
    "### Подготовка данных"
   ]
  },
  {
   "cell_type": "markdown",
   "metadata": {
    "id": "5oYYsgNRasfs"
   },
   "source": [
    "Используя пакетное решение, [например](https://docs.scipy.org/doc/scipy/reference/generated/scipy.signal.periodogram.html), подготовьте обучающую выборку."
   ]
  },
  {
   "cell_type": "code",
   "execution_count": null,
   "metadata": {
    "id": "Bc74w6f_WotV"
   },
   "outputs": [],
   "source": []
  },
  {
   "cell_type": "markdown",
   "metadata": {
    "id": "gOSFp3Y9cO4r"
   },
   "source": [
    "### Соберите и обучите нейросеть для предсказания спектральной плотности мощности"
   ]
  },
  {
   "cell_type": "markdown",
   "metadata": {
    "id": "biFb-0hPcqk6"
   },
   "source": [
    "*Подсказка: для входа 1024 выход будет 512*"
   ]
  },
  {
   "cell_type": "code",
   "execution_count": null,
   "metadata": {
    "id": "yD-jrz7CcPAo"
   },
   "outputs": [],
   "source": []
  },
  {
   "cell_type": "markdown",
   "metadata": {
    "id": "eZUr_fy6WxEI"
   },
   "source": [
    "### Провалидируйте свое решение"
   ]
  },
  {
   "cell_type": "markdown",
   "metadata": {
    "id": "brMFI4kTXLL_"
   },
   "source": [
    "*Примечание: Для сдачи достаточно качественного соответствия по форме спектра с пакетным решением*"
   ]
  },
  {
   "cell_type": "code",
   "execution_count": null,
   "metadata": {
    "id": "e_vb2_cxVyWP"
   },
   "outputs": [],
   "source": []
  }
 ],
 "metadata": {
  "colab": {
   "collapsed_sections": [],
   "provenance": [],
   "toc_visible": true
  },
  "kernelspec": {
   "display_name": "Python 3 (ipykernel)",
   "language": "python",
   "name": "python3"
  },
  "language_info": {
   "codemirror_mode": {
    "name": "ipython",
    "version": 3
   },
   "file_extension": ".py",
   "mimetype": "text/x-python",
   "name": "python",
   "nbconvert_exporter": "python",
   "pygments_lexer": "ipython3",
   "version": "3.11.4"
  }
 },
 "nbformat": 4,
 "nbformat_minor": 4
}
