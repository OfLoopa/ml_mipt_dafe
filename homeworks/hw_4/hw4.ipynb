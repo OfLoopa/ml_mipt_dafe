{
 "cells": [
  {
   "cell_type": "markdown",
   "metadata": {
    "id": "mNQ-I1PUU-PH"
   },
   "source": [
    "# hw4 - NN pyTorch"
   ]
  },
  {
   "cell_type": "markdown",
   "metadata": {
    "id": "YcnUBhqMUdio"
   },
   "source": [
    "Во всем задании вы должны работать со входом из строк размером (длиной) 1024"
   ]
  },
  {
   "cell_type": "code",
   "execution_count": 2,
   "metadata": {
    "ExecuteTime": {
     "end_time": "2023-12-20T22:17:44.405154592Z",
     "start_time": "2023-12-20T22:17:44.361095719Z"
    }
   },
   "outputs": [],
   "source": [
    "import numpy as np\n",
    "import pandas as pd\n",
    "from scipy import signal\n",
    "import scipy as sc\n",
    "import matplotlib.pyplot as plt\n",
    "import random\n",
    "import itertools\n",
    "from inspect import signature\n",
    "from tqdm import tqdm"
   ]
  },
  {
   "cell_type": "code",
   "execution_count": 3,
   "metadata": {
    "ExecuteTime": {
     "end_time": "2023-12-20T22:17:44.974413989Z",
     "start_time": "2023-12-20T22:17:44.960473885Z"
    }
   },
   "outputs": [],
   "source": [
    "import torch\n",
    "from sklearn.model_selection import train_test_split\n",
    "from sklearn.metrics import mean_squared_error"
   ]
  },
  {
   "cell_type": "markdown",
   "metadata": {
    "id": "O4_UACT-T_dY"
   },
   "source": [
    "## Часть 1 Фурье"
   ]
  },
  {
   "cell_type": "markdown",
   "metadata": {
    "id": "0ENj9WzCU-SK"
   },
   "source": [
    "### Подготовка данных"
   ]
  },
  {
   "cell_type": "markdown",
   "metadata": {
    "id": "_MDgqWu9U-U-"
   },
   "source": [
    "Сгенерите данные (сигнал) любым пакетом для численного преобразования Фурье, [например](https://numpy.org/doc/stable/reference/generated/numpy.fft.fft.html#numpy.fft.fft)"
   ]
  },
  {
   "cell_type": "code",
   "execution_count": 44,
   "metadata": {},
   "outputs": [],
   "source": [
    "t = np.arange(1024)"
   ]
  },
  {
   "cell_type": "code",
   "execution_count": 55,
   "metadata": {},
   "outputs": [],
   "source": [
    "def generate_random_signal(function, parameters_grid, t):\n",
    "    generated_parameters = {}\n",
    "    for param, values in parameters_grid.items():\n",
    "        if values == 'float':\n",
    "            param_value = random.uniform(-1000.0, 1000.0)\n",
    "        elif values == 'int':\n",
    "            param_value = random.randint(-1000, 1000)\n",
    "        elif values[:4] == 'arr(':\n",
    "            par_str = values[4:-1]\n",
    "            start, end, *param_lens = list(map(int, par_str.split(',')))\n",
    "            if len(param_lens) == 1:\n",
    "                param_len = param_lens[0]\n",
    "            else:\n",
    "                param_len = random.randint(param_len[0], param_len[1])\n",
    "            if param_len != 1:\n",
    "                param_value = [random.uniform(start, end) for i in range(param_len)]\n",
    "            else:\n",
    "                param_value = random.uniform(start, end)\n",
    "        elif values == 'int+float':\n",
    "            rand_float = random.uniform(-1000.0, 1000.0)\n",
    "            rand_int = random.randint(-1000, 1000)\n",
    "            param_value = random.choice([rand_int, rand_float])\n",
    "        elif values[:6] == 'float(':\n",
    "            # range generator\n",
    "            val_range = values[6:-1]\n",
    "            val_range = list(map(float, val_range.split(',')))\n",
    "            param_value = random.uniform(val_range[0], val_range[1])\n",
    "        elif values[:4] == 'int(':\n",
    "            val_range = values[4:-1]\n",
    "            val_range = list(map(int, val_range.split(',')))\n",
    "            # range generator\n",
    "            param_value = random.randint(val_range[0], val_range[1])\n",
    "        else:\n",
    "            param_value = random.choice(values)\n",
    "        generated_parameters[param] = param_value\n",
    "    return function(t, **generated_parameters)"
   ]
  },
  {
   "cell_type": "code",
   "execution_count": 68,
   "metadata": {},
   "outputs": [],
   "source": [
    "def generate_signals_by_grid(function, parameters_grid, t):\n",
    "    params_names = list(parameters_grid.keys())\n",
    "    params_values = []\n",
    "    for name in params_names:\n",
    "        params_values.append(parameters_grid[name])\n",
    "    signals = []\n",
    "    for param_pair in list(product(*params_values)):\n",
    "        params = {params_names[i]: param_pair[i] for i in range(len(param_pair))}\n",
    "        signals.append(function(t, **params))\n",
    "\n",
    "    return signals"
   ]
  },
  {
   "cell_type": "code",
   "execution_count": 456,
   "metadata": {
    "ExecuteTime": {
     "end_time": "2023-12-20T22:17:48.198994103Z",
     "start_time": "2023-12-20T22:17:48.193454920Z"
    }
   },
   "outputs": [],
   "source": [
    "DATASET_FILENAME = 'dataset.csv'"
   ]
  },
  {
   "cell_type": "code",
   "execution_count": 107,
   "metadata": {},
   "outputs": [],
   "source": [
    "def generate_random_dataset(t, funcs, size, batch_size, filename):\n",
    "    with open(filename, 'w') as f:\n",
    "        sig_h = [f'signal_t{i}' for i in range(1024)]\n",
    "        fur_h = [f'fourier_t{i}' for i in range(1024)]\n",
    "        f.write(','.join(sig_h + fur_h) + '\\n')\n",
    "    \n",
    "    for func_name, func in funcs.items():\n",
    "        batch = []\n",
    "        for i in range(size):\n",
    "            gen_sig = generate_random_signal(func['function'], func['params_grid'], t)\n",
    "            gen_fur = np.fft.fft(gen_sig)\n",
    "            line = np.concatenate((gen_sig, gen_fur))\n",
    "            batch.append(line)\n",
    "            if len(batch) > batch_size:\n",
    "                batch = np.array(batch)\n",
    "                with open(filename, 'ab') as csv_file:\n",
    "                    np.savetxt(csv_file, batch, delimiter=\",\")\n",
    "                batch = []"
   ]
  },
  {
   "cell_type": "code",
   "execution_count": 131,
   "metadata": {},
   "outputs": [],
   "source": [
    "functions_random = {\n",
    "    'sin': {\n",
    "        'function': lambda t, scale, var, bias: np.sin(scale * t + var) + bias,\n",
    "        'params_grid': {'scale': 'float', 'var': 'float', 'bias': 'float'}\n",
    "    },\n",
    "    'line': {\n",
    "        'function': lambda t, a, b: a*t+b,\n",
    "        'params_grid': {'a': 'float', 'b': 'float'}\n",
    "    },\n",
    "    'exp': {\n",
    "        'function': lambda t, a, b, c, d: c*np.exp(a*t+b)+d,\n",
    "        'params_grid': {'a': 'float(-50,50)', 'b': 'float(-50,50)', 'c': 'float', 'd': 'float'}\n",
    "    },\n",
    "    'log': {\n",
    "        'function': lambda t, a, b, c, d: c*np.log(np.abs(a * t + b) + 1)+d,\n",
    "        'params_grid': {'a': 'float', 'b': 'float', 'c': 'float', 'd': 'float'}\n",
    "    },\n",
    "    # 'pow': {\n",
    "    #     'function': lambda t, power, a, b, c, d: c*((a * t + b) ** power)+d,\n",
    "    #     'params_grid': {'power': 'int+float', 'a': 'float', 'b': 'float', 'c': 'float', 'd': 'float'}\n",
    "    # },\n",
    "    'chirp': {\n",
    "        'function': lambda t, f0, f1, t1, method, phi: signal.chirp(t, f0, f1, t1, method, phi),\n",
    "        'params_grid': {'f0': 'float', 'f1': 'float', 't1': 'float', 'method': ['linear', 'quadratic'], 'phi': 'float'}\n",
    "    },\n",
    "    'gausspulse': {\n",
    "        'function': lambda t, fc, bw, bwr, tpr: signal.gausspulse(t, fc, bw, bwr, tpr),\n",
    "        'params_grid': {'fc': 'float(0,1000)', 'bw': 'float(0,1000)', 'bwr': 'float(-200,0)', 'tpr': 'float'}\n",
    "    },\n",
    "    'sawtooth': {\n",
    "        'function': lambda t, width: signal.sawtooth(t, width),\n",
    "        'params_grid': {'width': 'float(0,1)'}\n",
    "    },\n",
    "    'square': {\n",
    "        'function': lambda t, duty: signal.square(t, duty),\n",
    "        'params_grid': {'duty': 'float(0,1)'}\n",
    "    },\n",
    "    # 'sweep_poly': {\n",
    "    #     'function': lambda t, poly, phi: signal.sweep_poly(t, poly, phi),\n",
    "    #     'params_grid': {'poly': 'arr(-100,100,1,10)', 'phi': 'float'}\n",
    "    # },\n",
    "    'random_noise': {\n",
    "        'function': lambda t, mean, var: np.random.normal(mean, var, len(t)),\n",
    "        'params_grid': {'mean': 'float', 'var': 'float(0,1000)'}\n",
    "    },\n",
    "    'unit_impulse': {\n",
    "        'function': lambda t, idx: signal.unit_impulse(len(t), idx),\n",
    "        'params_grid': {'idx': 'int'}\n",
    "    },\n",
    "\n",
    "}"
   ]
  },
  {
   "cell_type": "code",
   "execution_count": 109,
   "metadata": {},
   "outputs": [],
   "source": [
    "functions_grid = {\n",
    "    'sin': {\n",
    "        'function': lambda t, scale, var, bias: np.sin(scale * t + var) + bias,\n",
    "        'params_grid': {'scale': [0.25 * (i+1) * np.pi for i in range(20)], 'var': 'float', 'bias': [-10.0 + (i+1) * 0.5 for i in range(40)]}\n",
    "    },\n",
    "    'line': {\n",
    "        'function': lambda t, a, b: a*t+b,\n",
    "        'params_grid': {'a': [-10.0 + 0.5 * i for i in range(40)], 'b': [-10.0 + 0.5 * i for i in range(40)]}\n",
    "    },\n",
    "    'exp': {\n",
    "        'function': lambda t, a, b, c, d: c*np.exp(a*t+b)+d,\n",
    "        'params_grid': {'a': [-10.0 + 0.5 * i for i in range(40)], 'b': [-10.0 + 0.5 * i for i in range(40)], 'c': [-10.0 + 0.5 * i for i in range(40)], 'd': [-10.0 + 0.5 * i for i in range(40)]}\n",
    "    },\n",
    "    'log': {\n",
    "        'function': lambda t, a, b, c, d: c*np.log(np.abs(a * t + b) + 1)+d,\n",
    "        'params_grid': {'a': [-10.0 + 0.5 * i for i in range(40)], 'b': [-10.0 + 0.5 * i for i in range(40)], 'c': [-10.0 + 0.5 * i for i in range(40)], 'd': [-10.0 + 0.5 * i for i in range(40)]}\n",
    "    },\n",
    "    'pow': {\n",
    "        'function': lambda t, pow, a, b, c, d: c*np.pow(a * t + b, pow)+d,\n",
    "        'params_grid': {'pow': [-10.0 + 0.5 * i for i in range(40)], 'a': [-10.0 + 0.5 * i for i in range(40)], 'b': [-10.0 + 0.5 * i for i in range(40)], 'c': [-10.0 + 0.5 * i for i in range(40)], 'd': [-10.0 + 0.5 * i for i in range(40)]}\n",
    "    },\n",
    "}"
   ]
  },
  {
   "cell_type": "code",
   "execution_count": 132,
   "metadata": {},
   "outputs": [
    {
     "name": "stderr",
     "output_type": "stream",
     "text": [
      "/tmp/ipykernel_4251/2777498442.py:11: RuntimeWarning: overflow encountered in exp\n",
      "  'function': lambda t, a, b, c, d: c*np.exp(a*t+b)+d,\n",
      "/tmp/ipykernel_4251/2777498442.py:11: RuntimeWarning: overflow encountered in multiply\n",
      "  'function': lambda t, a, b, c, d: c*np.exp(a*t+b)+d,\n"
     ]
    }
   ],
   "source": [
    "generate_random_dataset(t, functions_random, 1000, 100, DATASET_FILENAME)"
   ]
  },
  {
   "cell_type": "code",
   "execution_count": 457,
   "metadata": {
    "ExecuteTime": {
     "end_time": "2023-12-20T22:18:06.016819307Z",
     "start_time": "2023-12-20T22:17:52.894722290Z"
    }
   },
   "outputs": [],
   "source": [
    "data = pd.read_csv(DATASET_FILENAME, sep=\",\")\n",
    "data = data.apply(lambda col: col.apply(lambda val: complex(val.strip())))"
   ]
  },
  {
   "cell_type": "code",
   "execution_count": 458,
   "metadata": {},
   "outputs": [
    {
     "data": {
      "text/plain": [
       "dtype('complex128')"
      ]
     },
     "execution_count": 458,
     "metadata": {},
     "output_type": "execute_result"
    }
   ],
   "source": [
    "data.iloc[:, 1024:].to_numpy().dtype"
   ]
  },
  {
   "cell_type": "code",
   "execution_count": 459,
   "metadata": {},
   "outputs": [],
   "source": [
    "nans = data.isna().any(axis=1)\n",
    "nans_i = nans[nans == True].index.tolist()\n",
    "data = data.drop(nans_i)"
   ]
  },
  {
   "cell_type": "code",
   "execution_count": 460,
   "metadata": {},
   "outputs": [
    {
     "data": {
      "text/plain": [
       "<bound method DataFrame.info of                    signal_t0               signal_t1               signal_t2  \\\n",
       "0    -112.149918+  0.000000j -110.572777+  0.000000j -110.691586+  0.000000j   \n",
       "1    -471.265283+  0.000000j -472.269707+  0.000000j -472.736682+  0.000000j   \n",
       "2      34.158157+  0.000000j   32.762265+  0.000000j   33.173215+  0.000000j   \n",
       "3    -994.948626+  0.000000j -993.728142+  0.000000j -993.659511+  0.000000j   \n",
       "4    -245.704623+  0.000000j -247.078292+  0.000000j -247.380916+  0.000000j   \n",
       "...                      ...                     ...                     ...   \n",
       "9085    0.000000+  0.000000j    0.000000+  0.000000j    0.000000+  0.000000j   \n",
       "9086    0.000000+  0.000000j    0.000000+  0.000000j    0.000000+  0.000000j   \n",
       "9087    0.000000+  0.000000j    0.000000+  0.000000j    0.000000+  0.000000j   \n",
       "9088    0.000000+  0.000000j    0.000000+  0.000000j    0.000000+  0.000000j   \n",
       "9089    0.000000+  0.000000j    0.000000+  0.000000j    0.000000+  0.000000j   \n",
       "\n",
       "                   signal_t3               signal_t4               signal_t5  \\\n",
       "0    -112.184398+  0.000000j -111.006006+  0.000000j -110.349605+  0.000000j   \n",
       "1    -471.109727+  0.000000j -472.811668+  0.000000j -472.169742+  0.000000j   \n",
       "2      34.537656+  0.000000j   34.022284+  0.000000j   32.697285+  0.000000j   \n",
       "3    -994.980183+  0.000000j -993.120892+  0.000000j -994.514421+  0.000000j   \n",
       "4    -245.748779+  0.000000j -246.840146+  0.000000j -247.540158+  0.000000j   \n",
       "...                      ...                     ...                     ...   \n",
       "9085    0.000000+  0.000000j    0.000000+  0.000000j    0.000000+  0.000000j   \n",
       "9086    0.000000+  0.000000j    0.000000+  0.000000j    0.000000+  0.000000j   \n",
       "9087    0.000000+  0.000000j    0.000000+  0.000000j    0.000000+  0.000000j   \n",
       "9088    0.000000+  0.000000j    0.000000+  0.000000j    0.000000+  0.000000j   \n",
       "9089    0.000000+  0.000000j    0.000000+  0.000000j    0.000000+  0.000000j   \n",
       "\n",
       "                   signal_t6               signal_t7               signal_t8  \\\n",
       "0    -111.993903+  0.000000j -111.483199+  0.000000j -110.201393+  0.000000j   \n",
       "1    -471.323561+  0.000000j -473.093542+  0.000000j -471.580137+  0.000000j   \n",
       "2      33.314061+  0.000000j   34.591857+  0.000000j   33.877289+  0.000000j   \n",
       "3    -994.339432+  0.000000j -993.201352+  0.000000j -995.037715+  0.000000j   \n",
       "4    -245.850919+  0.000000j -246.593667+  0.000000j -247.648533+  0.000000j   \n",
       "...                      ...                     ...                     ...   \n",
       "9085    0.000000+  0.000000j    0.000000+  0.000000j    0.000000+  0.000000j   \n",
       "9086    0.000000+  0.000000j    0.000000+  0.000000j    0.000000+  0.000000j   \n",
       "9087    0.000000+  0.000000j    0.000000+  0.000000j    0.000000+  0.000000j   \n",
       "9088    0.000000+  0.000000j    0.000000+  0.000000j    0.000000+  0.000000j   \n",
       "9089    0.000000+  0.000000j    0.000000+  0.000000j    0.000000+  0.000000j   \n",
       "\n",
       "                   signal_t9  ...       fourier_t1014       fourier_t1015  \\\n",
       "0    -111.621910+  0.000000j  ... -0.458818+0.011567j -0.458764+0.010409j   \n",
       "1    -471.827697+  0.000000j  ...  0.143155-0.008454j  0.143174-0.007608j   \n",
       "2      32.654180+  0.000000j  ...  0.540822-0.039462j  0.540866-0.035508j   \n",
       "3    -993.495065+  0.000000j  ... -0.782432+0.017550j -0.782373+0.015793j   \n",
       "4    -246.004835+  0.000000j  ... -0.073599-0.004156j -0.073556-0.003739j   \n",
       "...                      ...  ...                 ...                 ...   \n",
       "9085    0.000000+  0.000000j  ... -0.689541+0.724247j  0.503538-0.863973j   \n",
       "9086    0.000000+  0.000000j  ... -0.803208+0.595699j  0.932993+0.359895j   \n",
       "9087    0.000000+  0.000000j  ...  0.605511+0.795837j -0.676093-0.736817j   \n",
       "9088    0.000000+  0.000000j  ... -0.146730+0.989177j  0.024541+0.999699j   \n",
       "9089    0.000000+  0.000000j  ...  0.545325+0.838225j  0.935184-0.354164j   \n",
       "\n",
       "           fourier_t1016       fourier_t1017       fourier_t1018  \\\n",
       "0    -0.458716+0.009251j -0.458674+0.008094j -0.458637+0.006937j   \n",
       "1     0.143191-0.006762j  0.143205-0.005916j  0.143218-0.005071j   \n",
       "2     0.540905-0.031556j  0.540939-0.027607j  0.540969-0.023659j   \n",
       "3    -0.782319+0.014037j -0.782273+0.012282j -0.782232+0.010527j   \n",
       "4    -0.073518-0.003324j -0.073484-0.002908j -0.073455-0.002492j   \n",
       "...                  ...                 ...                 ...   \n",
       "9085 -0.290285+0.956940j  0.061321-0.998118j  0.170962+0.985278j   \n",
       "9086 -0.195090-0.980785j -0.724247+0.689541j  0.970031+0.242980j   \n",
       "9087  0.740951+0.671559j -0.799537-0.600616j  0.851355+0.524590j   \n",
       "9088  0.195090+0.980785j  0.359895+0.932993j  0.514103+0.857729j   \n",
       "9089 -0.146730-0.989177j -0.997723-0.067444j -0.278520+0.960431j   \n",
       "\n",
       "           fourier_t1019       fourier_t1020       fourier_t1021  \\\n",
       "0    -0.458606+0.005780j -0.458581+0.004624j -0.458561+0.003468j   \n",
       "1     0.143229-0.004225j  0.143237-0.003380j  0.143244-0.002535j   \n",
       "2     0.540994-0.019713j  0.541014-0.015769j  0.541030-0.011826j   \n",
       "3    -0.782197+0.008772j -0.782169+0.007017j -0.782147+0.005263j   \n",
       "4    -0.073430-0.002077j -0.073410-0.001661j -0.073394-0.001246j   \n",
       "...                  ...                 ...                 ...   \n",
       "9085 -0.393992-0.919114j  0.595699+0.803208j -0.765167-0.643832j   \n",
       "9086 -0.313682-0.949528j -0.634393+0.773010j  0.992480+0.122411j   \n",
       "9087 -0.895966-0.444122j  0.932993+0.359895j -0.962121-0.272621j   \n",
       "9088  0.653173+0.757209j  0.773010+0.634393j  0.870087+0.492898j   \n",
       "9089  0.879012+0.476799j  0.653173-0.757209j -0.600616-0.799537j   \n",
       "\n",
       "           fourier_t1022       fourier_t1023  \n",
       "0    -0.458547+0.002312j -0.458538+0.001156j  \n",
       "1     0.143249-0.001690j  0.143252-0.000845j  \n",
       "2     0.541042-0.007883j  0.541049-0.003942j  \n",
       "3    -0.782132+0.003508j -0.782122+0.001754j  \n",
       "4    -0.073383-0.000831j -0.073377-0.000415j  \n",
       "...                  ...                 ...  \n",
       "9085  0.893224+0.449611j -0.972940-0.231058j  \n",
       "9086 -0.427555-0.903989j -0.534998+0.844854j  \n",
       "9087  0.983105+0.183040j -0.995767-0.091909j  \n",
       "9088  0.941544+0.336890j  0.985278+0.170962j  \n",
       "9089 -0.909168+0.416430j  0.213110+0.977028j  \n",
       "\n",
       "[8651 rows x 2048 columns]>"
      ]
     },
     "execution_count": 460,
     "metadata": {},
     "output_type": "execute_result"
    }
   ],
   "source": [
    "X_data = data.iloc[:, :1024].to_numpy()\n",
    "X_data = torch.tensor(X_data, dtype=torch.cfloat)\n",
    "y_data = data.iloc[:, 1024:].to_numpy()\n",
    "y_data = torch.tensor(y_data, dtype=torch.cfloat)\n",
    "index_y_inf = list(data.index[torch.isinf(y_data).any(axis=1)])\n",
    "index_x_inf = list(data.index[torch.isinf(X_data).any(axis=1)])\n",
    "data = data.drop(index_y_inf + index_x_inf)\n",
    "data.info"
   ]
  },
  {
   "cell_type": "code",
   "execution_count": 461,
   "metadata": {},
   "outputs": [],
   "source": [
    "X_data = data.iloc[:, :1024].to_numpy()\n",
    "X_data = torch.tensor(X_data, dtype=torch.cfloat)"
   ]
  },
  {
   "cell_type": "code",
   "execution_count": 462,
   "metadata": {},
   "outputs": [],
   "source": [
    "y_data = data.iloc[:, 1024:].to_numpy()\n",
    "y_data = torch.tensor(y_data, dtype=torch.cfloat)"
   ]
  },
  {
   "cell_type": "code",
   "execution_count": 463,
   "metadata": {},
   "outputs": [
    {
     "ename": "IndexError",
     "evalue": "boolean index did not match indexed array along dimension 0; dimension is 8651 but corresponding boolean dimension is 7785",
     "output_type": "error",
     "traceback": [
      "\u001b[0;31m---------------------------------------------------------------------------\u001b[0m",
      "\u001b[0;31mIndexError\u001b[0m                                Traceback (most recent call last)",
      "Cell \u001b[0;32mIn[463], line 1\u001b[0m\n\u001b[0;32m----> 1\u001b[0m indexNum \u001b[38;5;241m=\u001b[39m \u001b[43mdata\u001b[49m\u001b[38;5;241;43m.\u001b[39;49m\u001b[43mindex\u001b[49m\u001b[43m[\u001b[49m\u001b[43mtorch\u001b[49m\u001b[38;5;241;43m.\u001b[39;49m\u001b[43misinf\u001b[49m\u001b[43m(\u001b[49m\u001b[43mcomplex_decoder\u001b[49m\u001b[43m(\u001b[49m\u001b[43mX_train\u001b[49m\u001b[43m)\u001b[49m\u001b[43m)\u001b[49m\u001b[38;5;241;43m.\u001b[39;49m\u001b[43many\u001b[49m\u001b[43m(\u001b[49m\u001b[43maxis\u001b[49m\u001b[38;5;241;43m=\u001b[39;49m\u001b[38;5;241;43m1\u001b[39;49m\u001b[43m)\u001b[49m\u001b[43m]\u001b[49m\n\u001b[1;32m      2\u001b[0m indexNum\n",
      "File \u001b[0;32m~/.pyenv/versions/3.11.4/lib/python3.11/site-packages/pandas/core/indexes/base.py:5382\u001b[0m, in \u001b[0;36mIndex.__getitem__\u001b[0;34m(self, key)\u001b[0m\n\u001b[1;32m   5379\u001b[0m     \u001b[38;5;28;01melse\u001b[39;00m:\n\u001b[1;32m   5380\u001b[0m         key \u001b[38;5;241m=\u001b[39m np\u001b[38;5;241m.\u001b[39masarray(key, dtype\u001b[38;5;241m=\u001b[39m\u001b[38;5;28mbool\u001b[39m)\n\u001b[0;32m-> 5382\u001b[0m result \u001b[38;5;241m=\u001b[39m \u001b[43mgetitem\u001b[49m\u001b[43m(\u001b[49m\u001b[43mkey\u001b[49m\u001b[43m)\u001b[49m\n\u001b[1;32m   5383\u001b[0m \u001b[38;5;66;03m# Because we ruled out integer above, we always get an arraylike here\u001b[39;00m\n\u001b[1;32m   5384\u001b[0m \u001b[38;5;28;01mif\u001b[39;00m result\u001b[38;5;241m.\u001b[39mndim \u001b[38;5;241m>\u001b[39m \u001b[38;5;241m1\u001b[39m:\n",
      "\u001b[0;31mIndexError\u001b[0m: boolean index did not match indexed array along dimension 0; dimension is 8651 but corresponding boolean dimension is 7785"
     ]
    }
   ],
   "source": [
    "indexNum = data.index[torch.isinf(complex_decoder(X_train)).any(axis=1)]\n",
    "indexNum"
   ]
  },
  {
   "cell_type": "code",
   "execution_count": 483,
   "metadata": {
    "ExecuteTime": {
     "end_time": "2023-12-20T22:19:10.368683829Z",
     "start_time": "2023-12-20T22:19:10.363105174Z"
    },
    "collapsed": false,
    "jupyter": {
     "outputs_hidden": false
    }
   },
   "outputs": [
    {
     "data": {
      "text/plain": [
       "torch.Size([9000, 1024])"
      ]
     },
     "execution_count": 483,
     "metadata": {},
     "output_type": "execute_result"
    }
   ],
   "source": [
    "X_train.size()"
   ]
  },
  {
   "cell_type": "code",
   "execution_count": 464,
   "metadata": {},
   "outputs": [],
   "source": [
    "X_train, X_test, y_train, y_test = train_test_split(X_data, y_data, test_size=0.1, random_state=42, shuffle=True)"
   ]
  },
  {
   "cell_type": "code",
   "execution_count": 4,
   "metadata": {
    "ExecuteTime": {
     "end_time": "2023-12-20T22:19:06.969252575Z",
     "start_time": "2023-12-20T22:19:06.538647016Z"
    }
   },
   "outputs": [
    {
     "data": {
      "text/plain": [
       "tensor([[ -9.3411-20.0321j,   3.4986-45.8826j,   6.4725-30.7130j,\n",
       "          ...,  11.0664+14.0327j,  33.4909+43.9174j,\n",
       "         -63.2263+20.7808j],\n",
       "        [ 62.0126+15.2864j, -10.4740-32.4978j,  19.5741-30.8643j,\n",
       "          ..., -10.3562-6.3665j,  -3.6249+8.3454j,\n",
       "         -56.2355-25.8026j],\n",
       "        [ -3.5923+16.2104j,  10.0127-14.9041j, -49.7492-0.7962j,\n",
       "          ..., -57.3756+40.8329j,  10.0849+58.5082j,\n",
       "          14.8747-47.4842j],\n",
       "        ...,\n",
       "        [ 27.0903+23.4804j,  38.2056+22.5469j, -33.1531+56.3263j,\n",
       "          ...,  34.1725+4.0035j, -14.3796-40.8444j,\n",
       "         -11.5531-7.0967j],\n",
       "        [-59.4887+25.8921j, -11.5128+50.8854j,  52.0028+45.1559j,\n",
       "          ..., -35.9350+33.3836j,  30.3495+32.5593j,\n",
       "          29.2627+54.7003j],\n",
       "        [ 13.7873-34.1962j,   1.0726-4.4293j,  23.6184-58.6047j,\n",
       "          ...,  11.1006-13.7084j,  10.0098-59.6270j,\n",
       "         -28.7355-29.1670j]], device='cuda:0')"
      ]
     },
     "execution_count": 4,
     "metadata": {},
     "output_type": "execute_result"
    }
   ],
   "source": [
    "N = 1024\n",
    "batch = 90000\n",
    "\n",
    "# Generate random input data and desired output data\n",
    "sig = np.random.randn(batch, N) + 1j*np.random.randn(batch, N)\n",
    "F = np.fft.fft(sig, axis=-1)\n",
    "\n",
    "# First half of inputs/outputs is real part, second half is imaginary part\n",
    "X = torch.tensor(sig, dtype=torch.complex64)\n",
    "Y = torch.tensor(F, dtype=torch.complex64)\n",
    "\n",
    "X_train, X_test, y_train, y_test = train_test_split(X, Y, test_size=0.1, random_state=42, shuffle=True)\n",
    "\n",
    "device = torch.device('cuda')\n",
    "X_train.to(device)\n",
    "X_test.to(device)\n",
    "y_train.to(device)\n",
    "y_test.to(device)"
   ]
  },
  {
   "cell_type": "markdown",
   "metadata": {
    "id": "Em0erMH6WyEV"
   },
   "source": [
    "### Соберите и обучите нейросетку на pyTroch для преобразования Фурье"
   ]
  },
  {
   "cell_type": "markdown",
   "metadata": {},
   "source": [
    "Обернем в функцию\n",
    "\n",
    "Внешние части - декодер и энкодер комплексного вектора размера N в вещественный вектор размера 2*N - просто нужно в первом случае засплитить, во втором - сложить две матрицы _real_, _im_ как _real + j * im_\n",
    "\n",
    "Внутренняя часть - нейронка"
   ]
  },
  {
   "cell_type": "code",
   "execution_count": 79,
   "metadata": {
    "ExecuteTime": {
     "end_time": "2023-12-20T22:19:15.627222473Z",
     "start_time": "2023-12-20T22:19:15.623102535Z"
    }
   },
   "outputs": [],
   "source": [
    "def complex_decoder(A):\n",
    "    real = A.real\n",
    "    imag = A.imag\n",
    "    if type(A).__name__ == 'Tensor':\n",
    "        if A.dim() == 1:\n",
    "            ax = 0\n",
    "        else:\n",
    "            ax = 1\n",
    "        return torch.cat((real, imag), ax)\n",
    "    elif type(A).__name__ == 'ndarray':\n",
    "        if A.ndim == 1:\n",
    "            ax = 0\n",
    "        else:\n",
    "            ax = 1\n",
    "        return np.concatenate((real, imag), ax)\n",
    "\n",
    "def complex_encoder(real, imag=None, dtype='Tensor'):\n",
    "    if imag is None:\n",
    "        if type(real).__name__ == 'ndarray':\n",
    "            dim = real.ndim\n",
    "            half = int(real.shape[dim-1] / 2)\n",
    "        else:\n",
    "            dim = real.dim()\n",
    "            half = int(real.size(dim-1) / 2)\n",
    "        if dim == 2:\n",
    "            imag = real[:, half:]\n",
    "            real = real[:, :half]\n",
    "        else:\n",
    "            imag = real[half:]\n",
    "            real = real[:half]\n",
    "    \n",
    "    if type(real).__name__ == 'ndarray':\n",
    "        real = torch.Tensor(real)\n",
    "    if type(imag).__name__ == 'ndarray':\n",
    "        real = torch.Tensor(imag)\n",
    "    if dtype == 'Tensor':\n",
    "        return torch.complex(real, imag)\n",
    "    else:\n",
    "        return torch.complex(real, imag).numpy()"
   ]
  },
  {
   "cell_type": "code",
   "execution_count": 144,
   "metadata": {
    "ExecuteTime": {
     "end_time": "2023-12-20T22:19:22.730691882Z",
     "start_time": "2023-12-20T22:19:22.716165010Z"
    },
    "id": "KqC_5cbgWyML"
   },
   "outputs": [],
   "source": [
    "D_in = 2048\n",
    "D_out = 2048\n",
    "\n",
    "model = torch.nn.Sequential(\n",
    "    torch.nn.Linear(D_in, 2 * D_in),\n",
    "    torch.nn.BatchNorm1d(2 * D_in),\n",
    "    torch.nn.ReLU(),\n",
    "    # torch.nn.Dropout(0.2),\n",
    "    torch.nn.Linear(2 * D_in, D_out),\n",
    "    # torch.nn.BatchNorm1d(D_out),\n",
    "    # torch.nn.ReLU(),\n",
    "    # torch.nn.Linear(D_out, D_out),\n",
    ")"
   ]
  },
  {
   "cell_type": "code",
   "execution_count": 145,
   "metadata": {
    "ExecuteTime": {
     "end_time": "2023-12-20T22:19:27.489615346Z",
     "start_time": "2023-12-20T22:19:27.484826479Z"
    }
   },
   "outputs": [],
   "source": [
    "def custom_fft(X, model):\n",
    "    if type(X).__name__ == 'ndarray':\n",
    "        A = torch.tensor(X.copy(), dtype=torch.complex64)\n",
    "    else:\n",
    "        A = X.copy()\n",
    "    decoded = complex_decoder(A)\n",
    "    dim = decoded.ndim\n",
    "    if dim == 1:\n",
    "        decoded = decoded.view(1, decoded.size(0)) \n",
    "    model.eval()\n",
    "    fft_decoded = model(torch.atleast_2d(decoded))\n",
    "    answer = complex_encoder(fft_decoded)\n",
    "    if type(X).__name__ == 'ndarray':\n",
    "        ans = answer.detach().numpy()\n",
    "    else:\n",
    "        ans = answer.detach()\n",
    "\n",
    "    if dim == 1:\n",
    "        return ans[0]\n",
    "    else:\n",
    "        return ans"
   ]
  },
  {
   "cell_type": "code",
   "execution_count": 191,
   "metadata": {
    "ExecuteTime": {
     "end_time": "2023-12-20T22:19:28.594793948Z",
     "start_time": "2023-12-20T22:19:28.587285667Z"
    }
   },
   "outputs": [],
   "source": [
    "def batch_train(model, loss_fn, optimizer, x, y):\n",
    "    y_pred = model(x)\n",
    "    loss = loss_fn(y_pred, y)\n",
    "    model.zero_grad()\n",
    "    loss.backward()\n",
    "    optimizer.step()\n",
    "    return (loss.item())\n",
    "    \n",
    "def train(model, n_epochs, batch_size, loss_fn, optimizer, X, y, X_test, y_test, scheduler = None, lr_decay: int = None):\n",
    "    mse_train_all = []\n",
    "    loss_train_all = []\n",
    "    mse_test_all = []\n",
    "    loss_test_all = []\n",
    "\n",
    "    if lr_decay is not None:\n",
    "        decay_epochs = [int(n_epochs / lr_decay) * (i+1) for i in range(lr_decay)]    \n",
    "        print(f'Learning rate Decays will be at epochs: {decay_epochs}')\n",
    "    \n",
    "    for epoch in range(n_epochs):\n",
    "\n",
    "        permutation = torch.randperm(X.size()[0])\n",
    "\n",
    "        if lr_decay is not None:\n",
    "            if epoch in decay_epochs:\n",
    "                print(f'\\nLearning rate Decay')\n",
    "                for i in range(len(optimizer.param_groups)):\n",
    "                    optimizer.param_groups[i]['lr'] /= 5\n",
    "\n",
    "        for i in tqdm(range(0,X.float().size()[0], batch_size)):\n",
    "            indices = permutation[i:i+batch_size]\n",
    "            batch_x, batch_y = X[indices], y[indices]\n",
    "            batch_train(model, loss_fn, optimizer, batch_x, batch_y)\n",
    "\n",
    "        if scheduler is not None:\n",
    "            scheduler.step()\n",
    "        \n",
    "        y_test_pred = model(X_test)\n",
    "        y_train_pred = model(X)\n",
    "\n",
    "\n",
    "        mse_train = mean_squared_error(y.detach().numpy(), y_train_pred.detach().numpy())\n",
    "        loss_train = loss_fn(y_train_pred, y).detach()\n",
    "        mse_test = mean_squared_error(y_test.detach().numpy(), y_test_pred.detach().numpy())\n",
    "        loss_test = loss_fn(y_test_pred, y_test).detach()\n",
    "\n",
    "        mse_train_all = np.append(mse_train_all, mse_train)\n",
    "        loss_train_all = np.append(loss_train_all, loss_train)\n",
    "        mse_test_all = np.append(mse_test_all, mse_test)\n",
    "        loss_test_all = np.append(loss_test_all, loss_test)\n",
    "\n",
    "\n",
    "        print(f'Epoch {epoch}: \\n MSE score - train: {mse_train} | test: {mse_test} \\n Loss - train: {loss_train} | test: {loss_test}')\n",
    "\n",
    "    return(mse_train_all, loss_train_all, mse_test_all, loss_test_all)"
   ]
  },
  {
   "cell_type": "code",
   "execution_count": 147,
   "metadata": {
    "ExecuteTime": {
     "end_time": "2023-12-20T22:19:31.910856087Z",
     "start_time": "2023-12-20T22:19:31.905355950Z"
    }
   },
   "outputs": [],
   "source": [
    "def init_weights(m):\n",
    "    if type(m) == torch.nn.Linear:\n",
    "        torch.nn.init.kaiming_normal_(m.weight)\n",
    "        m.bias.data.fill_(0.01)"
   ]
  },
  {
   "cell_type": "code",
   "execution_count": 148,
   "metadata": {
    "ExecuteTime": {
     "end_time": "2023-12-20T22:19:32.208714991Z",
     "start_time": "2023-12-20T22:19:32.198270078Z"
    }
   },
   "outputs": [],
   "source": [
    "def vis_history(mse_train_all, loss_train_all, mse_test_all, loss_test_all):\n",
    "    fig = plt.figure(figsize=(16, 4))\n",
    "\n",
    "    plt.subplot(1, 2, 1)\n",
    "\n",
    "    plt.plot(loss_train_all, label='loss')\n",
    "    plt.plot(loss_test_all, label='val_loss')\n",
    "\n",
    "    plt.legend()\n",
    "\n",
    "    plt.subplot(1, 2, 2)\n",
    "    plt.plot(mse_train_all, label='mse')\n",
    "    plt.plot(mse_test_all, label='val_mse')\n",
    "\n",
    "    plt.legend()\n",
    "    plt.show()"
   ]
  },
  {
   "cell_type": "code",
   "execution_count": 149,
   "metadata": {
    "ExecuteTime": {
     "end_time": "2023-12-20T22:19:35.141398079Z",
     "start_time": "2023-12-20T22:19:35.136485837Z"
    }
   },
   "outputs": [],
   "source": [
    "n_epochs = 100\n",
    "batch_size = 1000\n",
    "learning_rate = 1e-3\n",
    "lr_decay = 3"
   ]
  },
  {
   "cell_type": "code",
   "execution_count": 151,
   "metadata": {
    "ExecuteTime": {
     "end_time": "2023-12-20T22:19:39.815268537Z",
     "start_time": "2023-12-20T22:19:39.798309176Z"
    }
   },
   "outputs": [],
   "source": [
    "optimizerAdam = torch.optim.Adam(model.parameters(), lr=learning_rate)\n",
    "scheduler = torch.optim.lr_scheduler.MultiStepLR(optimizerAdam, milestones=[int(n_epochs / lr_decay) * (i+1) for i in range(lr_decay)], gamma=0.5)\n",
    "model = model.apply(init_weights)\n",
    "loss_fn = torch.nn.MSELoss()"
   ]
  },
  {
   "cell_type": "code",
   "execution_count": 152,
   "metadata": {},
   "outputs": [
    {
     "data": {
      "text/plain": [
       "torch.Size([81000, 2048])"
      ]
     },
     "execution_count": 152,
     "metadata": {},
     "output_type": "execute_result"
    }
   ],
   "source": [
    "complex_decoder(X_train).size()"
   ]
  },
  {
   "cell_type": "code",
   "execution_count": 153,
   "metadata": {},
   "outputs": [
    {
     "data": {
      "text/plain": [
       "tensor([[-12.5215-3.0965j,  -2.7678+30.9647j,  12.4281+24.8964j,\n",
       "          ...,   5.0958+12.5735j,  75.8720-64.2397j,\n",
       "          21.7590-13.5567j],\n",
       "        [  0.6113-4.1439j,  76.3918-32.5898j,  35.8335+7.7877j,\n",
       "          ..., -39.1238+87.1407j, -24.9280-23.9952j,\n",
       "          84.6249+57.6212j],\n",
       "        [-18.6259-32.3636j,   3.9433+4.9052j,   9.7154-47.2077j,\n",
       "          ..., -26.4290-31.4086j, -12.3765-5.4546j,\n",
       "          50.4817+18.9686j],\n",
       "        ...,\n",
       "        [  4.4139+27.8784j,  12.6473-29.9207j, -35.7743-10.0633j,\n",
       "          ...,  -2.1150+10.1666j,  34.1627-1.5806j,\n",
       "         -45.5443-17.7019j],\n",
       "        [ 25.8896-7.4039j,  11.8296+21.8294j,   9.6689-27.1695j,\n",
       "          ...,   5.4260+18.1836j,  52.2702-31.4362j,\n",
       "         -26.2822+69.4859j],\n",
       "        [ 17.4486+51.3993j,  20.2123+75.1453j, -32.2107+37.3918j,\n",
       "          ...,  17.0842-2.3624j, -34.4356+7.0420j,\n",
       "          30.4243-20.7109j]])"
      ]
     },
     "execution_count": 153,
     "metadata": {},
     "output_type": "execute_result"
    }
   ],
   "source": [
    "y_train"
   ]
  },
  {
   "cell_type": "code",
   "execution_count": 154,
   "metadata": {
    "ExecuteTime": {
     "end_time": "2023-12-20T22:19:53.806589378Z",
     "start_time": "2023-12-20T22:19:46.784732691Z"
    }
   },
   "outputs": [
    {
     "name": "stderr",
     "output_type": "stream",
     "text": [
      "100%|███████████████████████████████████████████| 81/81 [00:17<00:00,  4.69it/s]\n"
     ]
    },
    {
     "name": "stdout",
     "output_type": "stream",
     "text": [
      "Epoch 0: \n",
      " MSE score - train: 883.5001831054688 | test: 888.0187377929688 \n",
      " Loss - train: 883.5099487304688 | test: 888.01904296875\n"
     ]
    },
    {
     "name": "stderr",
     "output_type": "stream",
     "text": [
      "100%|███████████████████████████████████████████| 81/81 [00:17<00:00,  4.73it/s]\n"
     ]
    },
    {
     "name": "stdout",
     "output_type": "stream",
     "text": [
      "Epoch 1: \n",
      " MSE score - train: 748.0313110351562 | test: 761.1575317382812 \n",
      " Loss - train: 748.0391845703125 | test: 761.1578979492188\n"
     ]
    },
    {
     "name": "stderr",
     "output_type": "stream",
     "text": [
      "100%|███████████████████████████████████████████| 81/81 [00:17<00:00,  4.73it/s]\n"
     ]
    },
    {
     "name": "stdout",
     "output_type": "stream",
     "text": [
      "Epoch 2: \n",
      " MSE score - train: 605.349365234375 | test: 626.7958984375 \n",
      " Loss - train: 605.3567504882812 | test: 626.796142578125\n"
     ]
    },
    {
     "name": "stderr",
     "output_type": "stream",
     "text": [
      "100%|███████████████████████████████████████████| 81/81 [00:17<00:00,  4.67it/s]\n"
     ]
    },
    {
     "name": "stdout",
     "output_type": "stream",
     "text": [
      "Epoch 3: \n",
      " MSE score - train: 469.22796630859375 | test: 496.5523681640625 \n",
      " Loss - train: 469.2334289550781 | test: 496.552490234375\n"
     ]
    },
    {
     "name": "stderr",
     "output_type": "stream",
     "text": [
      "100%|███████████████████████████████████████████| 81/81 [00:17<00:00,  4.65it/s]\n"
     ]
    },
    {
     "name": "stdout",
     "output_type": "stream",
     "text": [
      "Epoch 4: \n",
      " MSE score - train: 350.4190673828125 | test: 380.51910400390625 \n",
      " Loss - train: 350.4229736328125 | test: 380.519287109375\n"
     ]
    },
    {
     "name": "stderr",
     "output_type": "stream",
     "text": [
      "100%|███████████████████████████████████████████| 81/81 [00:17<00:00,  4.64it/s]\n"
     ]
    },
    {
     "name": "stdout",
     "output_type": "stream",
     "text": [
      "Epoch 5: \n",
      " MSE score - train: 254.67869567871094 | test: 285.08740234375 \n",
      " Loss - train: 254.68173217773438 | test: 285.08758544921875\n"
     ]
    },
    {
     "name": "stderr",
     "output_type": "stream",
     "text": [
      "100%|███████████████████████████████████████████| 81/81 [00:17<00:00,  4.62it/s]\n"
     ]
    },
    {
     "name": "stdout",
     "output_type": "stream",
     "text": [
      "Epoch 6: \n",
      " MSE score - train: 183.84085083007812 | test: 212.89561462402344 \n",
      " Loss - train: 183.84283447265625 | test: 212.8957061767578\n"
     ]
    },
    {
     "name": "stderr",
     "output_type": "stream",
     "text": [
      "100%|███████████████████████████████████████████| 81/81 [00:17<00:00,  4.62it/s]\n"
     ]
    },
    {
     "name": "stdout",
     "output_type": "stream",
     "text": [
      "Epoch 7: \n",
      " MSE score - train: 135.39913940429688 | test: 162.40841674804688 \n",
      " Loss - train: 135.40081787109375 | test: 162.40850830078125\n"
     ]
    },
    {
     "name": "stderr",
     "output_type": "stream",
     "text": [
      "100%|███████████████████████████████████████████| 81/81 [00:17<00:00,  4.63it/s]\n"
     ]
    },
    {
     "name": "stdout",
     "output_type": "stream",
     "text": [
      "Epoch 8: \n",
      " MSE score - train: 104.58770751953125 | test: 129.51626586914062 \n",
      " Loss - train: 104.58879089355469 | test: 129.51632690429688\n"
     ]
    },
    {
     "name": "stderr",
     "output_type": "stream",
     "text": [
      "100%|███████████████████████████████████████████| 81/81 [00:17<00:00,  4.65it/s]\n"
     ]
    },
    {
     "name": "stdout",
     "output_type": "stream",
     "text": [
      "Epoch 9: \n",
      " MSE score - train: 85.86429595947266 | test: 108.94766998291016 \n",
      " Loss - train: 85.86528778076172 | test: 108.94770050048828\n"
     ]
    },
    {
     "name": "stderr",
     "output_type": "stream",
     "text": [
      "100%|███████████████████████████████████████████| 81/81 [00:17<00:00,  4.66it/s]\n"
     ]
    },
    {
     "name": "stdout",
     "output_type": "stream",
     "text": [
      "Epoch 10: \n",
      " MSE score - train: 74.8115005493164 | test: 96.47694396972656 \n",
      " Loss - train: 74.81241607666016 | test: 96.47698211669922\n"
     ]
    },
    {
     "name": "stderr",
     "output_type": "stream",
     "text": [
      "100%|███████████████████████████████████████████| 81/81 [00:17<00:00,  4.66it/s]\n"
     ]
    },
    {
     "name": "stdout",
     "output_type": "stream",
     "text": [
      "Epoch 11: \n",
      " MSE score - train: 67.52989196777344 | test: 88.20830535888672 \n",
      " Loss - train: 67.53072357177734 | test: 88.20834350585938\n"
     ]
    },
    {
     "name": "stderr",
     "output_type": "stream",
     "text": [
      "100%|███████████████████████████████████████████| 81/81 [00:17<00:00,  4.66it/s]\n"
     ]
    },
    {
     "name": "stdout",
     "output_type": "stream",
     "text": [
      "Epoch 12: \n",
      " MSE score - train: 62.641517639160156 | test: 82.60212707519531 \n",
      " Loss - train: 62.642276763916016 | test: 82.60215759277344\n"
     ]
    },
    {
     "name": "stderr",
     "output_type": "stream",
     "text": [
      "100%|███████████████████████████████████████████| 81/81 [00:17<00:00,  4.65it/s]\n"
     ]
    },
    {
     "name": "stdout",
     "output_type": "stream",
     "text": [
      "Epoch 13: \n",
      " MSE score - train: 58.98088073730469 | test: 78.50901794433594 \n",
      " Loss - train: 58.98157501220703 | test: 78.5090560913086\n"
     ]
    },
    {
     "name": "stderr",
     "output_type": "stream",
     "text": [
      "100%|███████████████████████████████████████████| 81/81 [00:17<00:00,  4.64it/s]\n"
     ]
    },
    {
     "name": "stdout",
     "output_type": "stream",
     "text": [
      "Epoch 14: \n",
      " MSE score - train: 55.71665954589844 | test: 74.83980560302734 \n",
      " Loss - train: 55.71727752685547 | test: 74.83984375\n"
     ]
    },
    {
     "name": "stderr",
     "output_type": "stream",
     "text": [
      "100%|███████████████████████████████████████████| 81/81 [00:17<00:00,  4.60it/s]\n"
     ]
    },
    {
     "name": "stdout",
     "output_type": "stream",
     "text": [
      "Epoch 15: \n",
      " MSE score - train: 53.139381408691406 | test: 71.96065521240234 \n",
      " Loss - train: 53.13993835449219 | test: 71.96068572998047\n"
     ]
    },
    {
     "name": "stderr",
     "output_type": "stream",
     "text": [
      "100%|███████████████████████████████████████████| 81/81 [00:17<00:00,  4.65it/s]\n"
     ]
    },
    {
     "name": "stdout",
     "output_type": "stream",
     "text": [
      "Epoch 16: \n",
      " MSE score - train: 50.56587219238281 | test: 69.13690948486328 \n",
      " Loss - train: 50.56640625 | test: 69.1369400024414\n"
     ]
    },
    {
     "name": "stderr",
     "output_type": "stream",
     "text": [
      "100%|███████████████████████████████████████████| 81/81 [00:17<00:00,  4.70it/s]\n"
     ]
    },
    {
     "name": "stdout",
     "output_type": "stream",
     "text": [
      "Epoch 17: \n",
      " MSE score - train: 48.15278244018555 | test: 66.38773345947266 \n",
      " Loss - train: 48.153297424316406 | test: 66.38775634765625\n"
     ]
    },
    {
     "name": "stderr",
     "output_type": "stream",
     "text": [
      "100%|███████████████████████████████████████████| 81/81 [00:17<00:00,  4.65it/s]\n"
     ]
    },
    {
     "name": "stdout",
     "output_type": "stream",
     "text": [
      "Epoch 18: \n",
      " MSE score - train: 45.849884033203125 | test: 63.801815032958984 \n",
      " Loss - train: 45.85038375854492 | test: 63.801841735839844\n"
     ]
    },
    {
     "name": "stderr",
     "output_type": "stream",
     "text": [
      "100%|███████████████████████████████████████████| 81/81 [00:17<00:00,  4.66it/s]\n"
     ]
    },
    {
     "name": "stdout",
     "output_type": "stream",
     "text": [
      "Epoch 19: \n",
      " MSE score - train: 43.5752067565918 | test: 61.204898834228516 \n",
      " Loss - train: 43.57569885253906 | test: 61.204917907714844\n"
     ]
    },
    {
     "name": "stderr",
     "output_type": "stream",
     "text": [
      "100%|███████████████████████████████████████████| 81/81 [00:17<00:00,  4.59it/s]\n"
     ]
    },
    {
     "name": "stdout",
     "output_type": "stream",
     "text": [
      "Epoch 20: \n",
      " MSE score - train: 41.42060852050781 | test: 58.75246810913086 \n",
      " Loss - train: 41.42108154296875 | test: 58.75248718261719\n"
     ]
    },
    {
     "name": "stderr",
     "output_type": "stream",
     "text": [
      "100%|███████████████████████████████████████████| 81/81 [00:17<00:00,  4.61it/s]\n"
     ]
    },
    {
     "name": "stdout",
     "output_type": "stream",
     "text": [
      "Epoch 21: \n",
      " MSE score - train: 39.38857650756836 | test: 56.361087799072266 \n",
      " Loss - train: 39.389041900634766 | test: 56.36110305786133\n"
     ]
    },
    {
     "name": "stderr",
     "output_type": "stream",
     "text": [
      "100%|███████████████████████████████████████████| 81/81 [00:17<00:00,  4.67it/s]\n"
     ]
    },
    {
     "name": "stdout",
     "output_type": "stream",
     "text": [
      "Epoch 22: \n",
      " MSE score - train: 37.188011169433594 | test: 53.78206253051758 \n",
      " Loss - train: 37.18845748901367 | test: 53.782081604003906\n"
     ]
    },
    {
     "name": "stderr",
     "output_type": "stream",
     "text": [
      "100%|███████████████████████████████████████████| 81/81 [00:17<00:00,  4.66it/s]\n"
     ]
    },
    {
     "name": "stdout",
     "output_type": "stream",
     "text": [
      "Epoch 23: \n",
      " MSE score - train: 35.416683197021484 | test: 51.722084045410156 \n",
      " Loss - train: 35.4171142578125 | test: 51.722103118896484\n"
     ]
    },
    {
     "name": "stderr",
     "output_type": "stream",
     "text": [
      "100%|███████████████████████████████████████████| 81/81 [00:17<00:00,  4.67it/s]\n"
     ]
    },
    {
     "name": "stdout",
     "output_type": "stream",
     "text": [
      "Epoch 24: \n",
      " MSE score - train: 33.60832977294922 | test: 49.4471435546875 \n",
      " Loss - train: 33.60873794555664 | test: 49.44716262817383\n"
     ]
    },
    {
     "name": "stderr",
     "output_type": "stream",
     "text": [
      "100%|███████████████████████████████████████████| 81/81 [00:17<00:00,  4.70it/s]\n"
     ]
    },
    {
     "name": "stdout",
     "output_type": "stream",
     "text": [
      "Epoch 25: \n",
      " MSE score - train: 31.769302368164062 | test: 47.2700080871582 \n",
      " Loss - train: 31.76968765258789 | test: 47.27002716064453\n"
     ]
    },
    {
     "name": "stderr",
     "output_type": "stream",
     "text": [
      "100%|███████████████████████████████████████████| 81/81 [00:17<00:00,  4.69it/s]\n"
     ]
    },
    {
     "name": "stdout",
     "output_type": "stream",
     "text": [
      "Epoch 26: \n",
      " MSE score - train: 29.991573333740234 | test: 45.11885070800781 \n",
      " Loss - train: 29.99191665649414 | test: 45.118873596191406\n"
     ]
    },
    {
     "name": "stderr",
     "output_type": "stream",
     "text": [
      "100%|███████████████████████████████████████████| 81/81 [00:17<00:00,  4.65it/s]\n"
     ]
    },
    {
     "name": "stdout",
     "output_type": "stream",
     "text": [
      "Epoch 27: \n",
      " MSE score - train: 28.344131469726562 | test: 43.07991027832031 \n",
      " Loss - train: 28.344444274902344 | test: 43.079933166503906\n"
     ]
    },
    {
     "name": "stderr",
     "output_type": "stream",
     "text": [
      "100%|███████████████████████████████████████████| 81/81 [00:17<00:00,  4.62it/s]\n"
     ]
    },
    {
     "name": "stdout",
     "output_type": "stream",
     "text": [
      "Epoch 28: \n",
      " MSE score - train: 26.97966957092285 | test: 41.353912353515625 \n",
      " Loss - train: 26.979957580566406 | test: 41.35393142700195\n"
     ]
    },
    {
     "name": "stderr",
     "output_type": "stream",
     "text": [
      "100%|███████████████████████████████████████████| 81/81 [00:17<00:00,  4.65it/s]\n"
     ]
    },
    {
     "name": "stdout",
     "output_type": "stream",
     "text": [
      "Epoch 29: \n",
      " MSE score - train: 25.595468521118164 | test: 39.59569549560547 \n",
      " Loss - train: 25.595746994018555 | test: 39.59571075439453\n"
     ]
    },
    {
     "name": "stderr",
     "output_type": "stream",
     "text": [
      "100%|███████████████████████████████████████████| 81/81 [00:17<00:00,  4.69it/s]\n"
     ]
    },
    {
     "name": "stdout",
     "output_type": "stream",
     "text": [
      "Epoch 30: \n",
      " MSE score - train: 24.259599685668945 | test: 37.87983703613281 \n",
      " Loss - train: 24.25986099243164 | test: 37.879859924316406\n"
     ]
    },
    {
     "name": "stderr",
     "output_type": "stream",
     "text": [
      "100%|███████████████████████████████████████████| 81/81 [00:17<00:00,  4.64it/s]\n"
     ]
    },
    {
     "name": "stdout",
     "output_type": "stream",
     "text": [
      "Epoch 31: \n",
      " MSE score - train: 22.886871337890625 | test: 36.157447814941406 \n",
      " Loss - train: 22.887126922607422 | test: 36.15746307373047\n"
     ]
    },
    {
     "name": "stderr",
     "output_type": "stream",
     "text": [
      "100%|███████████████████████████████████████████| 81/81 [00:17<00:00,  4.61it/s]\n"
     ]
    },
    {
     "name": "stdout",
     "output_type": "stream",
     "text": [
      "Epoch 32: \n",
      " MSE score - train: 21.576501846313477 | test: 34.512107849121094 \n",
      " Loss - train: 21.576749801635742 | test: 34.512123107910156\n"
     ]
    },
    {
     "name": "stderr",
     "output_type": "stream",
     "text": [
      "100%|███████████████████████████████████████████| 81/81 [00:17<00:00,  4.70it/s]\n"
     ]
    },
    {
     "name": "stdout",
     "output_type": "stream",
     "text": [
      "Epoch 33: \n",
      " MSE score - train: 20.591495513916016 | test: 33.162200927734375 \n",
      " Loss - train: 20.59172821044922 | test: 33.16221618652344\n"
     ]
    },
    {
     "name": "stderr",
     "output_type": "stream",
     "text": [
      "100%|███████████████████████████████████████████| 81/81 [00:17<00:00,  4.69it/s]\n"
     ]
    },
    {
     "name": "stdout",
     "output_type": "stream",
     "text": [
      "Epoch 34: \n",
      " MSE score - train: 19.570987701416016 | test: 31.88155746459961 \n",
      " Loss - train: 19.571216583251953 | test: 31.881572723388672\n"
     ]
    },
    {
     "name": "stderr",
     "output_type": "stream",
     "text": [
      "100%|███████████████████████████████████████████| 81/81 [00:17<00:00,  4.61it/s]\n"
     ]
    },
    {
     "name": "stdout",
     "output_type": "stream",
     "text": [
      "Epoch 35: \n",
      " MSE score - train: 18.610546112060547 | test: 30.559446334838867 \n",
      " Loss - train: 18.610761642456055 | test: 30.5594539642334\n"
     ]
    },
    {
     "name": "stderr",
     "output_type": "stream",
     "text": [
      "100%|███████████████████████████████████████████| 81/81 [00:17<00:00,  4.66it/s]\n"
     ]
    },
    {
     "name": "stdout",
     "output_type": "stream",
     "text": [
      "Epoch 36: \n",
      " MSE score - train: 17.646684646606445 | test: 29.32676124572754 \n",
      " Loss - train: 17.646892547607422 | test: 29.326766967773438\n"
     ]
    },
    {
     "name": "stderr",
     "output_type": "stream",
     "text": [
      "100%|███████████████████████████████████████████| 81/81 [00:17<00:00,  4.68it/s]\n"
     ]
    },
    {
     "name": "stdout",
     "output_type": "stream",
     "text": [
      "Epoch 37: \n",
      " MSE score - train: 16.768272399902344 | test: 28.1624755859375 \n",
      " Loss - train: 16.768465042114258 | test: 28.162487030029297\n"
     ]
    },
    {
     "name": "stderr",
     "output_type": "stream",
     "text": [
      "100%|███████████████████████████████████████████| 81/81 [00:17<00:00,  4.64it/s]\n"
     ]
    },
    {
     "name": "stdout",
     "output_type": "stream",
     "text": [
      "Epoch 38: \n",
      " MSE score - train: 16.26272201538086 | test: 27.401927947998047 \n",
      " Loss - train: 16.26290512084961 | test: 27.401941299438477\n"
     ]
    },
    {
     "name": "stderr",
     "output_type": "stream",
     "text": [
      "100%|███████████████████████████████████████████| 81/81 [00:17<00:00,  4.65it/s]\n"
     ]
    },
    {
     "name": "stdout",
     "output_type": "stream",
     "text": [
      "Epoch 39: \n",
      " MSE score - train: 15.360513687133789 | test: 26.186689376831055 \n",
      " Loss - train: 15.36068058013916 | test: 26.186702728271484\n"
     ]
    },
    {
     "name": "stderr",
     "output_type": "stream",
     "text": [
      "100%|███████████████████████████████████████████| 81/81 [00:17<00:00,  4.71it/s]\n"
     ]
    },
    {
     "name": "stdout",
     "output_type": "stream",
     "text": [
      "Epoch 40: \n",
      " MSE score - train: 14.780611038208008 | test: 25.43201446533203 \n",
      " Loss - train: 14.780770301818848 | test: 25.432025909423828\n"
     ]
    },
    {
     "name": "stderr",
     "output_type": "stream",
     "text": [
      "100%|███████████████████████████████████████████| 81/81 [00:17<00:00,  4.69it/s]\n"
     ]
    },
    {
     "name": "stdout",
     "output_type": "stream",
     "text": [
      "Epoch 41: \n",
      " MSE score - train: 14.038334846496582 | test: 24.484970092773438 \n",
      " Loss - train: 14.038482666015625 | test: 24.484981536865234\n"
     ]
    },
    {
     "name": "stderr",
     "output_type": "stream",
     "text": [
      "100%|███████████████████████████████████████████| 81/81 [00:17<00:00,  4.59it/s]\n"
     ]
    },
    {
     "name": "stdout",
     "output_type": "stream",
     "text": [
      "Epoch 42: \n",
      " MSE score - train: 13.61353588104248 | test: 23.797931671142578 \n",
      " Loss - train: 13.61368179321289 | test: 23.797941207885742\n"
     ]
    },
    {
     "name": "stderr",
     "output_type": "stream",
     "text": [
      "100%|███████████████████████████████████████████| 81/81 [00:17<00:00,  4.62it/s]\n"
     ]
    },
    {
     "name": "stdout",
     "output_type": "stream",
     "text": [
      "Epoch 43: \n",
      " MSE score - train: 13.024124145507812 | test: 23.01181411743164 \n",
      " Loss - train: 13.024264335632324 | test: 23.011823654174805\n"
     ]
    },
    {
     "name": "stderr",
     "output_type": "stream",
     "text": [
      "100%|███████████████████████████████████████████| 81/81 [00:17<00:00,  4.72it/s]\n"
     ]
    },
    {
     "name": "stdout",
     "output_type": "stream",
     "text": [
      "Epoch 44: \n",
      " MSE score - train: 12.511542320251465 | test: 22.341665267944336 \n",
      " Loss - train: 12.511677742004395 | test: 22.341672897338867\n"
     ]
    },
    {
     "name": "stderr",
     "output_type": "stream",
     "text": [
      "100%|███████████████████████████████████████████| 81/81 [00:17<00:00,  4.75it/s]\n"
     ]
    },
    {
     "name": "stdout",
     "output_type": "stream",
     "text": [
      "Epoch 45: \n",
      " MSE score - train: 12.189131736755371 | test: 21.857887268066406 \n",
      " Loss - train: 12.189263343811035 | test: 21.85789680480957\n"
     ]
    },
    {
     "name": "stderr",
     "output_type": "stream",
     "text": [
      "100%|███████████████████████████████████████████| 81/81 [00:17<00:00,  4.62it/s]\n"
     ]
    },
    {
     "name": "stdout",
     "output_type": "stream",
     "text": [
      "Epoch 46: \n",
      " MSE score - train: 11.712844848632812 | test: 21.201190948486328 \n",
      " Loss - train: 11.712972640991211 | test: 21.201196670532227\n"
     ]
    },
    {
     "name": "stderr",
     "output_type": "stream",
     "text": [
      "100%|███████████████████████████████████████████| 81/81 [00:17<00:00,  4.61it/s]\n"
     ]
    },
    {
     "name": "stdout",
     "output_type": "stream",
     "text": [
      "Epoch 47: \n",
      " MSE score - train: 11.509889602661133 | test: 20.827417373657227 \n",
      " Loss - train: 11.510013580322266 | test: 20.827423095703125\n"
     ]
    },
    {
     "name": "stderr",
     "output_type": "stream",
     "text": [
      "100%|███████████████████████████████████████████| 81/81 [00:17<00:00,  4.66it/s]\n"
     ]
    },
    {
     "name": "stdout",
     "output_type": "stream",
     "text": [
      "Epoch 48: \n",
      " MSE score - train: 11.058277130126953 | test: 20.15497589111328 \n",
      " Loss - train: 11.05840015411377 | test: 20.154983520507812\n"
     ]
    },
    {
     "name": "stderr",
     "output_type": "stream",
     "text": [
      "100%|███████████████████████████████████████████| 81/81 [00:17<00:00,  4.64it/s]\n"
     ]
    },
    {
     "name": "stdout",
     "output_type": "stream",
     "text": [
      "Epoch 49: \n",
      " MSE score - train: 10.64346694946289 | test: 19.587188720703125 \n",
      " Loss - train: 10.643583297729492 | test: 19.587194442749023\n"
     ]
    },
    {
     "name": "stderr",
     "output_type": "stream",
     "text": [
      "100%|███████████████████████████████████████████| 81/81 [00:17<00:00,  4.57it/s]\n"
     ]
    },
    {
     "name": "stdout",
     "output_type": "stream",
     "text": [
      "Epoch 50: \n",
      " MSE score - train: 10.321043014526367 | test: 19.11403465270996 \n",
      " Loss - train: 10.321152687072754 | test: 19.114044189453125\n"
     ]
    },
    {
     "name": "stderr",
     "output_type": "stream",
     "text": [
      "100%|███████████████████████████████████████████| 81/81 [00:17<00:00,  4.61it/s]\n"
     ]
    },
    {
     "name": "stdout",
     "output_type": "stream",
     "text": [
      "Epoch 51: \n",
      " MSE score - train: 9.959335327148438 | test: 18.66677474975586 \n",
      " Loss - train: 9.959440231323242 | test: 18.666778564453125\n"
     ]
    },
    {
     "name": "stderr",
     "output_type": "stream",
     "text": [
      "100%|███████████████████████████████████████████| 81/81 [00:17<00:00,  4.64it/s]\n"
     ]
    },
    {
     "name": "stdout",
     "output_type": "stream",
     "text": [
      "Epoch 52: \n",
      " MSE score - train: 9.90433120727539 | test: 18.416118621826172 \n",
      " Loss - train: 9.904435157775879 | test: 18.416126251220703\n"
     ]
    },
    {
     "name": "stderr",
     "output_type": "stream",
     "text": [
      "100%|███████████████████████████████████████████| 81/81 [00:17<00:00,  4.59it/s]\n"
     ]
    },
    {
     "name": "stdout",
     "output_type": "stream",
     "text": [
      "Epoch 53: \n",
      " MSE score - train: 9.367548942565918 | test: 17.803424835205078 \n",
      " Loss - train: 9.367646217346191 | test: 17.80343246459961\n"
     ]
    },
    {
     "name": "stderr",
     "output_type": "stream",
     "text": [
      "100%|███████████████████████████████████████████| 81/81 [00:18<00:00,  4.27it/s]\n"
     ]
    },
    {
     "name": "stdout",
     "output_type": "stream",
     "text": [
      "Epoch 54: \n",
      " MSE score - train: 9.228048324584961 | test: 17.512428283691406 \n",
      " Loss - train: 9.228140830993652 | test: 17.512434005737305\n"
     ]
    },
    {
     "name": "stderr",
     "output_type": "stream",
     "text": [
      "100%|███████████████████████████████████████████| 81/81 [00:18<00:00,  4.28it/s]\n"
     ]
    },
    {
     "name": "stdout",
     "output_type": "stream",
     "text": [
      "Epoch 55: \n",
      " MSE score - train: 8.84758186340332 | test: 17.037227630615234 \n",
      " Loss - train: 8.847670555114746 | test: 17.037233352661133\n"
     ]
    },
    {
     "name": "stderr",
     "output_type": "stream",
     "text": [
      "100%|███████████████████████████████████████████| 81/81 [00:18<00:00,  4.28it/s]\n"
     ]
    },
    {
     "name": "stdout",
     "output_type": "stream",
     "text": [
      "Epoch 56: \n",
      " MSE score - train: 8.788694381713867 | test: 16.87140655517578 \n",
      " Loss - train: 8.788780212402344 | test: 16.87141227722168\n"
     ]
    },
    {
     "name": "stderr",
     "output_type": "stream",
     "text": [
      "100%|███████████████████████████████████████████| 81/81 [00:19<00:00,  4.23it/s]\n"
     ]
    },
    {
     "name": "stdout",
     "output_type": "stream",
     "text": [
      "Epoch 57: \n",
      " MSE score - train: 8.628795623779297 | test: 16.607196807861328 \n",
      " Loss - train: 8.628876686096191 | test: 16.607200622558594\n"
     ]
    },
    {
     "name": "stderr",
     "output_type": "stream",
     "text": [
      "100%|███████████████████████████████████████████| 81/81 [00:18<00:00,  4.33it/s]\n"
     ]
    },
    {
     "name": "stdout",
     "output_type": "stream",
     "text": [
      "Epoch 58: \n",
      " MSE score - train: 8.390083312988281 | test: 16.29938507080078 \n",
      " Loss - train: 8.390165328979492 | test: 16.299392700195312\n"
     ]
    },
    {
     "name": "stderr",
     "output_type": "stream",
     "text": [
      "100%|███████████████████████████████████████████| 81/81 [00:19<00:00,  4.17it/s]\n"
     ]
    },
    {
     "name": "stdout",
     "output_type": "stream",
     "text": [
      "Epoch 59: \n",
      " MSE score - train: 8.24311637878418 | test: 16.047931671142578 \n",
      " Loss - train: 8.243196487426758 | test: 16.047937393188477\n"
     ]
    },
    {
     "name": "stderr",
     "output_type": "stream",
     "text": [
      "100%|███████████████████████████████████████████| 81/81 [00:19<00:00,  4.15it/s]\n"
     ]
    },
    {
     "name": "stdout",
     "output_type": "stream",
     "text": [
      "Epoch 60: \n",
      " MSE score - train: 8.204927444458008 | test: 15.930534362792969 \n",
      " Loss - train: 8.20500373840332 | test: 15.930540084838867\n"
     ]
    },
    {
     "name": "stderr",
     "output_type": "stream",
     "text": [
      "100%|███████████████████████████████████████████| 81/81 [00:19<00:00,  4.10it/s]\n"
     ]
    },
    {
     "name": "stdout",
     "output_type": "stream",
     "text": [
      "Epoch 61: \n",
      " MSE score - train: 7.877392768859863 | test: 15.541200637817383 \n",
      " Loss - train: 7.877469062805176 | test: 15.541208267211914\n"
     ]
    },
    {
     "name": "stderr",
     "output_type": "stream",
     "text": [
      "100%|███████████████████████████████████████████| 81/81 [00:19<00:00,  4.14it/s]\n"
     ]
    },
    {
     "name": "stdout",
     "output_type": "stream",
     "text": [
      "Epoch 62: \n",
      " MSE score - train: 7.729013442993164 | test: 15.283685684204102 \n",
      " Loss - train: 7.72908878326416 | test: 15.28369140625\n"
     ]
    },
    {
     "name": "stderr",
     "output_type": "stream",
     "text": [
      "100%|███████████████████████████████████████████| 81/81 [00:19<00:00,  4.15it/s]\n"
     ]
    },
    {
     "name": "stdout",
     "output_type": "stream",
     "text": [
      "Epoch 63: \n",
      " MSE score - train: 7.700845718383789 | test: 15.189701080322266 \n",
      " Loss - train: 7.700918197631836 | test: 15.189706802368164\n"
     ]
    },
    {
     "name": "stderr",
     "output_type": "stream",
     "text": [
      "100%|███████████████████████████████████████████| 81/81 [00:19<00:00,  4.08it/s]\n"
     ]
    },
    {
     "name": "stdout",
     "output_type": "stream",
     "text": [
      "Epoch 64: \n",
      " MSE score - train: 7.614605903625488 | test: 14.980792999267578 \n",
      " Loss - train: 7.614676475524902 | test: 14.980798721313477\n"
     ]
    },
    {
     "name": "stderr",
     "output_type": "stream",
     "text": [
      "100%|███████████████████████████████████████████| 81/81 [00:19<00:00,  4.11it/s]\n"
     ]
    },
    {
     "name": "stdout",
     "output_type": "stream",
     "text": [
      "Epoch 65: \n",
      " MSE score - train: 7.401576995849609 | test: 14.720232009887695 \n",
      " Loss - train: 7.401646614074707 | test: 14.720235824584961\n"
     ]
    },
    {
     "name": "stderr",
     "output_type": "stream",
     "text": [
      "100%|███████████████████████████████████████████| 81/81 [00:19<00:00,  4.13it/s]\n"
     ]
    },
    {
     "name": "stdout",
     "output_type": "stream",
     "text": [
      "Epoch 66: \n",
      " MSE score - train: 7.3000640869140625 | test: 14.489713668823242 \n",
      " Loss - train: 7.300132751464844 | test: 14.489720344543457\n"
     ]
    },
    {
     "name": "stderr",
     "output_type": "stream",
     "text": [
      "100%|███████████████████████████████████████████| 81/81 [00:19<00:00,  4.18it/s]\n"
     ]
    },
    {
     "name": "stdout",
     "output_type": "stream",
     "text": [
      "Epoch 67: \n",
      " MSE score - train: 7.105499744415283 | test: 14.298868179321289 \n",
      " Loss - train: 7.105565547943115 | test: 14.298873901367188\n"
     ]
    },
    {
     "name": "stderr",
     "output_type": "stream",
     "text": [
      "100%|███████████████████████████████████████████| 81/81 [00:19<00:00,  4.26it/s]\n"
     ]
    },
    {
     "name": "stdout",
     "output_type": "stream",
     "text": [
      "Epoch 68: \n",
      " MSE score - train: 6.92174768447876 | test: 14.060906410217285 \n",
      " Loss - train: 6.921811580657959 | test: 14.060911178588867\n"
     ]
    },
    {
     "name": "stderr",
     "output_type": "stream",
     "text": [
      "100%|███████████████████████████████████████████| 81/81 [00:18<00:00,  4.33it/s]\n"
     ]
    },
    {
     "name": "stdout",
     "output_type": "stream",
     "text": [
      "Epoch 69: \n",
      " MSE score - train: 6.8515825271606445 | test: 13.941045761108398 \n",
      " Loss - train: 6.8516459465026855 | test: 13.941052436828613\n"
     ]
    },
    {
     "name": "stderr",
     "output_type": "stream",
     "text": [
      "100%|███████████████████████████████████████████| 81/81 [00:19<00:00,  4.08it/s]\n"
     ]
    },
    {
     "name": "stdout",
     "output_type": "stream",
     "text": [
      "Epoch 70: \n",
      " MSE score - train: 6.775853633880615 | test: 13.778196334838867 \n",
      " Loss - train: 6.775914192199707 | test: 13.77820110321045\n"
     ]
    },
    {
     "name": "stderr",
     "output_type": "stream",
     "text": [
      "100%|███████████████████████████████████████████| 81/81 [00:19<00:00,  4.09it/s]\n"
     ]
    },
    {
     "name": "stdout",
     "output_type": "stream",
     "text": [
      "Epoch 71: \n",
      " MSE score - train: 6.696999549865723 | test: 13.64004135131836 \n",
      " Loss - train: 6.69705867767334 | test: 13.640045166015625\n"
     ]
    },
    {
     "name": "stderr",
     "output_type": "stream",
     "text": [
      "100%|███████████████████████████████████████████| 81/81 [00:19<00:00,  4.24it/s]\n"
     ]
    },
    {
     "name": "stdout",
     "output_type": "stream",
     "text": [
      "Epoch 72: \n",
      " MSE score - train: 6.592698097229004 | test: 13.451509475708008 \n",
      " Loss - train: 6.592757701873779 | test: 13.451515197753906\n"
     ]
    },
    {
     "name": "stderr",
     "output_type": "stream",
     "text": [
      "100%|███████████████████████████████████████████| 81/81 [00:19<00:00,  4.25it/s]\n"
     ]
    },
    {
     "name": "stdout",
     "output_type": "stream",
     "text": [
      "Epoch 73: \n",
      " MSE score - train: 6.5847320556640625 | test: 13.381231307983398 \n",
      " Loss - train: 6.584790229797363 | test: 13.381237983703613\n"
     ]
    },
    {
     "name": "stderr",
     "output_type": "stream",
     "text": [
      "100%|███████████████████████████████████████████| 81/81 [00:18<00:00,  4.29it/s]\n"
     ]
    },
    {
     "name": "stdout",
     "output_type": "stream",
     "text": [
      "Epoch 74: \n",
      " MSE score - train: 6.475320816040039 | test: 13.243509292602539 \n",
      " Loss - train: 6.475376605987549 | test: 13.243515014648438\n"
     ]
    },
    {
     "name": "stderr",
     "output_type": "stream",
     "text": [
      "100%|███████████████████████████████████████████| 81/81 [00:19<00:00,  4.24it/s]\n"
     ]
    },
    {
     "name": "stdout",
     "output_type": "stream",
     "text": [
      "Epoch 75: \n",
      " MSE score - train: 6.382134914398193 | test: 13.063430786132812 \n",
      " Loss - train: 6.38218879699707 | test: 13.063434600830078\n"
     ]
    },
    {
     "name": "stderr",
     "output_type": "stream",
     "text": [
      "100%|███████████████████████████████████████████| 81/81 [00:18<00:00,  4.27it/s]\n"
     ]
    },
    {
     "name": "stdout",
     "output_type": "stream",
     "text": [
      "Epoch 76: \n",
      " MSE score - train: 6.265542030334473 | test: 12.885473251342773 \n",
      " Loss - train: 6.26559591293335 | test: 12.885479927062988\n"
     ]
    },
    {
     "name": "stderr",
     "output_type": "stream",
     "text": [
      "100%|███████████████████████████████████████████| 81/81 [00:19<00:00,  4.21it/s]\n"
     ]
    },
    {
     "name": "stdout",
     "output_type": "stream",
     "text": [
      "Epoch 77: \n",
      " MSE score - train: 6.099504470825195 | test: 12.683233261108398 \n",
      " Loss - train: 6.099555492401123 | test: 12.683238983154297\n"
     ]
    },
    {
     "name": "stderr",
     "output_type": "stream",
     "text": [
      "100%|███████████████████████████████████████████| 81/81 [00:18<00:00,  4.27it/s]\n"
     ]
    },
    {
     "name": "stdout",
     "output_type": "stream",
     "text": [
      "Epoch 78: \n",
      " MSE score - train: 6.042510032653809 | test: 12.656274795532227 \n",
      " Loss - train: 6.0425591468811035 | test: 12.656279563903809\n"
     ]
    },
    {
     "name": "stderr",
     "output_type": "stream",
     "text": [
      "100%|███████████████████████████████████████████| 81/81 [00:18<00:00,  4.32it/s]\n"
     ]
    },
    {
     "name": "stdout",
     "output_type": "stream",
     "text": [
      "Epoch 79: \n",
      " MSE score - train: 5.980190277099609 | test: 12.476574897766113 \n",
      " Loss - train: 5.980238914489746 | test: 12.476579666137695\n"
     ]
    },
    {
     "name": "stderr",
     "output_type": "stream",
     "text": [
      "100%|███████████████████████████████████████████| 81/81 [00:19<00:00,  4.25it/s]\n"
     ]
    },
    {
     "name": "stdout",
     "output_type": "stream",
     "text": [
      "Epoch 80: \n",
      " MSE score - train: 5.974456787109375 | test: 12.457679748535156 \n",
      " Loss - train: 5.974503993988037 | test: 12.457683563232422\n"
     ]
    },
    {
     "name": "stderr",
     "output_type": "stream",
     "text": [
      "100%|███████████████████████████████████████████| 81/81 [00:19<00:00,  4.23it/s]\n"
     ]
    },
    {
     "name": "stdout",
     "output_type": "stream",
     "text": [
      "Epoch 81: \n",
      " MSE score - train: 6.000174522399902 | test: 12.45206356048584 \n",
      " Loss - train: 6.000222206115723 | test: 12.452069282531738\n"
     ]
    },
    {
     "name": "stderr",
     "output_type": "stream",
     "text": [
      "100%|███████████████████████████████████████████| 81/81 [00:19<00:00,  4.24it/s]\n"
     ]
    },
    {
     "name": "stdout",
     "output_type": "stream",
     "text": [
      "Epoch 82: \n",
      " MSE score - train: 5.916264057159424 | test: 12.256146430969238 \n",
      " Loss - train: 5.9163103103637695 | test: 12.25615119934082\n"
     ]
    },
    {
     "name": "stderr",
     "output_type": "stream",
     "text": [
      "100%|███████████████████████████████████████████| 81/81 [00:18<00:00,  4.30it/s]\n"
     ]
    },
    {
     "name": "stdout",
     "output_type": "stream",
     "text": [
      "Epoch 83: \n",
      " MSE score - train: 5.84654426574707 | test: 12.171329498291016 \n",
      " Loss - train: 5.846588134765625 | test: 12.171333312988281\n"
     ]
    },
    {
     "name": "stderr",
     "output_type": "stream",
     "text": [
      "100%|███████████████████████████████████████████| 81/81 [00:18<00:00,  4.27it/s]\n"
     ]
    },
    {
     "name": "stdout",
     "output_type": "stream",
     "text": [
      "Epoch 84: \n",
      " MSE score - train: 5.548768997192383 | test: 11.856100082397461 \n",
      " Loss - train: 5.5488128662109375 | test: 11.856103897094727\n"
     ]
    },
    {
     "name": "stderr",
     "output_type": "stream",
     "text": [
      "100%|███████████████████████████████████████████| 81/81 [00:18<00:00,  4.28it/s]\n"
     ]
    },
    {
     "name": "stdout",
     "output_type": "stream",
     "text": [
      "Epoch 85: \n",
      " MSE score - train: 5.629934787750244 | test: 11.92220687866211 \n",
      " Loss - train: 5.629977226257324 | test: 11.922212600708008\n"
     ]
    },
    {
     "name": "stderr",
     "output_type": "stream",
     "text": [
      "100%|███████████████████████████████████████████| 81/81 [00:19<00:00,  4.24it/s]\n"
     ]
    },
    {
     "name": "stdout",
     "output_type": "stream",
     "text": [
      "Epoch 86: \n",
      " MSE score - train: 5.797453880310059 | test: 12.035021781921387 \n",
      " Loss - train: 5.797493934631348 | test: 12.035028457641602\n"
     ]
    },
    {
     "name": "stderr",
     "output_type": "stream",
     "text": [
      "100%|███████████████████████████████████████████| 81/81 [00:18<00:00,  4.27it/s]\n"
     ]
    },
    {
     "name": "stdout",
     "output_type": "stream",
     "text": [
      "Epoch 87: \n",
      " MSE score - train: 5.701852798461914 | test: 11.901641845703125 \n",
      " Loss - train: 5.7018938064575195 | test: 11.901646614074707\n"
     ]
    },
    {
     "name": "stderr",
     "output_type": "stream",
     "text": [
      "100%|███████████████████████████████████████████| 81/81 [00:18<00:00,  4.28it/s]\n"
     ]
    },
    {
     "name": "stdout",
     "output_type": "stream",
     "text": [
      "Epoch 88: \n",
      " MSE score - train: 5.604437828063965 | test: 11.774930953979492 \n",
      " Loss - train: 5.604477405548096 | test: 11.774935722351074\n"
     ]
    },
    {
     "name": "stderr",
     "output_type": "stream",
     "text": [
      "100%|███████████████████████████████████████████| 81/81 [00:19<00:00,  4.25it/s]\n"
     ]
    },
    {
     "name": "stdout",
     "output_type": "stream",
     "text": [
      "Epoch 89: \n",
      " MSE score - train: 5.462495803833008 | test: 11.626407623291016 \n",
      " Loss - train: 5.462536811828613 | test: 11.626413345336914\n"
     ]
    },
    {
     "name": "stderr",
     "output_type": "stream",
     "text": [
      "100%|███████████████████████████████████████████| 81/81 [00:18<00:00,  4.28it/s]\n"
     ]
    },
    {
     "name": "stdout",
     "output_type": "stream",
     "text": [
      "Epoch 90: \n",
      " MSE score - train: 5.400944709777832 | test: 11.446630477905273 \n",
      " Loss - train: 5.40098237991333 | test: 11.446636199951172\n"
     ]
    },
    {
     "name": "stderr",
     "output_type": "stream",
     "text": [
      "100%|███████████████████████████████████████████| 81/81 [00:18<00:00,  4.28it/s]\n"
     ]
    },
    {
     "name": "stdout",
     "output_type": "stream",
     "text": [
      "Epoch 91: \n",
      " MSE score - train: 5.455623626708984 | test: 11.524269104003906 \n",
      " Loss - train: 5.455662250518799 | test: 11.524273872375488\n"
     ]
    },
    {
     "name": "stderr",
     "output_type": "stream",
     "text": [
      "100%|███████████████████████████████████████████| 81/81 [00:19<00:00,  4.25it/s]\n"
     ]
    },
    {
     "name": "stdout",
     "output_type": "stream",
     "text": [
      "Epoch 92: \n",
      " MSE score - train: 5.2396135330200195 | test: 11.257641792297363 \n",
      " Loss - train: 5.239650249481201 | test: 11.257648468017578\n"
     ]
    },
    {
     "name": "stderr",
     "output_type": "stream",
     "text": [
      "100%|███████████████████████████████████████████| 81/81 [00:19<00:00,  4.20it/s]\n"
     ]
    },
    {
     "name": "stdout",
     "output_type": "stream",
     "text": [
      "Epoch 93: \n",
      " MSE score - train: 5.193427085876465 | test: 11.208646774291992 \n",
      " Loss - train: 5.193464279174805 | test: 11.20865249633789\n"
     ]
    },
    {
     "name": "stderr",
     "output_type": "stream",
     "text": [
      "100%|███████████████████████████████████████████| 81/81 [00:18<00:00,  4.27it/s]\n"
     ]
    },
    {
     "name": "stdout",
     "output_type": "stream",
     "text": [
      "Epoch 94: \n",
      " MSE score - train: 5.23386812210083 | test: 11.208673477172852 \n",
      " Loss - train: 5.23390531539917 | test: 11.208678245544434\n"
     ]
    },
    {
     "name": "stderr",
     "output_type": "stream",
     "text": [
      "100%|███████████████████████████████████████████| 81/81 [00:18<00:00,  4.26it/s]\n"
     ]
    },
    {
     "name": "stdout",
     "output_type": "stream",
     "text": [
      "Epoch 95: \n",
      " MSE score - train: 5.334355354309082 | test: 11.215105056762695 \n",
      " Loss - train: 5.3343915939331055 | test: 11.215109825134277\n"
     ]
    },
    {
     "name": "stderr",
     "output_type": "stream",
     "text": [
      "100%|███████████████████████████████████████████| 81/81 [00:19<00:00,  4.25it/s]\n"
     ]
    },
    {
     "name": "stdout",
     "output_type": "stream",
     "text": [
      "Epoch 96: \n",
      " MSE score - train: 5.33282470703125 | test: 11.21854019165039 \n",
      " Loss - train: 5.332859516143799 | test: 11.21854305267334\n"
     ]
    },
    {
     "name": "stderr",
     "output_type": "stream",
     "text": [
      "100%|███████████████████████████████████████████| 81/81 [00:19<00:00,  4.22it/s]\n"
     ]
    },
    {
     "name": "stdout",
     "output_type": "stream",
     "text": [
      "Epoch 97: \n",
      " MSE score - train: 5.245593547821045 | test: 11.097877502441406 \n",
      " Loss - train: 5.2456278800964355 | test: 11.097882270812988\n"
     ]
    },
    {
     "name": "stderr",
     "output_type": "stream",
     "text": [
      "100%|███████████████████████████████████████████| 81/81 [00:19<00:00,  4.26it/s]\n"
     ]
    },
    {
     "name": "stdout",
     "output_type": "stream",
     "text": [
      "Epoch 98: \n",
      " MSE score - train: 5.106705188751221 | test: 10.977459907531738 \n",
      " Loss - train: 5.106739521026611 | test: 10.977463722229004\n"
     ]
    },
    {
     "name": "stderr",
     "output_type": "stream",
     "text": [
      "100%|███████████████████████████████████████████| 81/81 [00:19<00:00,  4.25it/s]\n"
     ]
    },
    {
     "name": "stdout",
     "output_type": "stream",
     "text": [
      "Epoch 99: \n",
      " MSE score - train: 4.998683929443359 | test: 10.880352020263672 \n",
      " Loss - train: 4.998717784881592 | test: 10.880356788635254\n"
     ]
    }
   ],
   "source": [
    "mse_train_all, loss_train_all, mse_test_all, loss_test_all = \\\n",
    "          train(\n",
    "              model, n_epochs, batch_size, loss_fn, \n",
    "              optimizerAdam, complex_decoder(X_train), complex_decoder(y_train), \n",
    "              complex_decoder(X_test), complex_decoder(y_test), scheduler = None\n",
    "          )"
   ]
  },
  {
   "cell_type": "code",
   "execution_count": 155,
   "metadata": {
    "ExecuteTime": {
     "end_time": "2023-12-20T22:20:02.799847084Z",
     "start_time": "2023-12-20T22:20:02.685867551Z"
    }
   },
   "outputs": [
    {
     "data": {
      "image/png": "[encoded data removed]",
      "text/plain": [
       "<Figure size 1600x400 with 2 Axes>"
      ]
     },
     "metadata": {},
     "output_type": "display_data"
    }
   ],
   "source": [
    "vis_history(mse_train_all, loss_train_all, mse_test_all, loss_test_all)"
   ]
  },
  {
   "cell_type": "markdown",
   "metadata": {
    "id": "R08QEdnPU-X5"
   },
   "source": [
    "### Сравните свое решение с пакетным методом"
   ]
  },
  {
   "cell_type": "code",
   "execution_count": 156,
   "metadata": {
    "id": "I-Kw6bNqPUoj"
   },
   "outputs": [
    {
     "data": {
      "image/png": "[encoded data removed]",
      "text/plain": [
       "<Figure size 640x480 with 1 Axes>"
      ]
     },
     "metadata": {},
     "output_type": "display_data"
    }
   ],
   "source": [
    "signal_1 = np.sin(t)\n",
    "signal_2 = signal.square(0.05 * np.pi * t)\n",
    "plt.plot(t, signal_2)\n",
    "plt.show()"
   ]
  },
  {
   "cell_type": "code",
   "execution_count": 157,
   "metadata": {},
   "outputs": [
    {
     "data": {
      "text/plain": [
       "array([0., 0., 0., ..., 0., 0., 0.])"
      ]
     },
     "execution_count": 157,
     "metadata": {},
     "output_type": "execute_result"
    }
   ],
   "source": [
    "signal_2.imag"
   ]
  },
  {
   "cell_type": "code",
   "execution_count": 158,
   "metadata": {},
   "outputs": [
    {
     "data": {
      "image/png": "[encoded data removed]",
      "text/plain": [
       "<Figure size 640x480 with 1 Axes>"
      ]
     },
     "metadata": {},
     "output_type": "display_data"
    }
   ],
   "source": [
    "sp = np.fft.fft(signal_2)\n",
    "freq = np.fft.fftfreq(t.shape[-1])\n",
    "plt.plot(freq, sp.real, freq, sp.imag)\n",
    "plt.show()"
   ]
  },
  {
   "cell_type": "code",
   "execution_count": 160,
   "metadata": {},
   "outputs": [
    {
     "data": {
      "image/png": "[encoded data removed]",
      "text/plain": [
       "<Figure size 640x480 with 1 Axes>"
      ]
     },
     "metadata": {},
     "output_type": "display_data"
    }
   ],
   "source": [
    "sp_c = custom_fft(signal_2, model)\n",
    "freq = np.fft.fftfreq(t.shape[-1])\n",
    "plt.plot(freq, sp_c.real, freq, sp_c.imag)\n",
    "plt.show()"
   ]
  },
  {
   "cell_type": "code",
   "execution_count": 210,
   "metadata": {},
   "outputs": [
    {
     "data": {
      "text/plain": [
       "0.0"
      ]
     },
     "execution_count": 210,
     "metadata": {},
     "output_type": "execute_result"
    }
   ],
   "source": [
    "mean_squared_error(sp.real, sp_c.real)"
   ]
  },
  {
   "cell_type": "code",
   "execution_count": 211,
   "metadata": {},
   "outputs": [
    {
     "data": {
      "text/plain": [
       "0.0"
      ]
     },
     "execution_count": 211,
     "metadata": {},
     "output_type": "execute_result"
    }
   ],
   "source": [
    "mean_squared_error(sp.imag, sp_c.imag)"
   ]
  },
  {
   "cell_type": "markdown",
   "metadata": {
    "id": "ELvl6uKPVRkQ"
   },
   "source": [
    "## Часть 2 Power spectral density (dB)"
   ]
  },
  {
   "cell_type": "markdown",
   "metadata": {
    "id": "iRmBr8VRWolP"
   },
   "source": [
    "### Подготовка данных"
   ]
  },
  {
   "cell_type": "markdown",
   "metadata": {
    "id": "5oYYsgNRasfs"
   },
   "source": [
    "Используя пакетное решение, [например](https://docs.scipy.org/doc/scipy/reference/generated/scipy.signal.periodogram.html), подготовьте обучающую выборку."
   ]
  },
  {
   "cell_type": "code",
   "execution_count": 183,
   "metadata": {
    "id": "Bc74w6f_WotV"
   },
   "outputs": [
    {
     "data": {
      "text/plain": [
       "tensor([[4.9304e-32, 2.8713e+00, 3.0012e-01,  ..., 4.4911e-01, 2.9676e+00,\n",
       "         1.2750e+00],\n",
       "        [1.9722e-31, 2.1659e-01, 2.7687e+00,  ..., 8.7521e-01, 1.4379e+00,\n",
       "         3.3465e+00],\n",
       "        [6.0397e-31, 1.3017e+00, 2.5059e+00,  ..., 1.5329e+00, 2.5905e-01,\n",
       "         1.0686e+00],\n",
       "        ...,\n",
       "        [1.1093e-31, 4.8504e-02, 6.3896e+00,  ..., 2.6779e+00, 1.6914e+00,\n",
       "         2.4326e-01],\n",
       "        [3.7286e-31, 4.1924e+00, 3.4027e+00,  ..., 2.6359e+00, 9.4867e-01,\n",
       "         1.1464e-02],\n",
       "        [7.8886e-31, 1.7820e+00, 5.4931e+00,  ..., 1.4706e+00, 1.6488e+00,\n",
       "         4.6347e+00]], device='cuda:0')"
      ]
     },
     "execution_count": 183,
     "metadata": {},
     "output_type": "execute_result"
    }
   ],
   "source": [
    "N = 1024\n",
    "batch = 90000\n",
    "\n",
    "# Generate random input data and desired output data\n",
    "sig = np.random.randn(batch, N) #+ 1j*np.random.randn(batch, N)\n",
    "F = signal.periodogram(sig)[1]\n",
    "\n",
    "# First half of inputs/outputs is real part, second half is imaginary part\n",
    "X = torch.tensor(sig, dtype=torch.float32)\n",
    "Y = torch.tensor(F, dtype=torch.float32)\n",
    "\n",
    "X_train, X_test, y_train, y_test = train_test_split(X, Y, test_size=0.1, random_state=42, shuffle=True)\n",
    "\n",
    "device = torch.device('cuda')\n",
    "X_train.to(device)\n",
    "X_test.to(device)\n",
    "y_train.to(device)\n",
    "y_test.to(device)\n"
   ]
  },
  {
   "cell_type": "code",
   "execution_count": 184,
   "metadata": {},
   "outputs": [
    {
     "data": {
      "text/plain": [
       "torch.Size([90000, 1024])"
      ]
     },
     "execution_count": 184,
     "metadata": {},
     "output_type": "execute_result"
    }
   ],
   "source": [
    "X.size()"
   ]
  },
  {
   "cell_type": "code",
   "execution_count": 185,
   "metadata": {},
   "outputs": [
    {
     "data": {
      "text/plain": [
       "torch.Size([90000, 513])"
      ]
     },
     "execution_count": 185,
     "metadata": {},
     "output_type": "execute_result"
    }
   ],
   "source": [
    "Y.size()"
   ]
  },
  {
   "cell_type": "markdown",
   "metadata": {
    "id": "gOSFp3Y9cO4r"
   },
   "source": [
    "### Соберите и обучите нейросеть для предсказания спектральной плотности мощности"
   ]
  },
  {
   "cell_type": "markdown",
   "metadata": {
    "id": "biFb-0hPcqk6"
   },
   "source": [
    "*Подсказка: для входа 1024 выход будет 512*"
   ]
  },
  {
   "cell_type": "code",
   "execution_count": 187,
   "metadata": {
    "id": "yD-jrz7CcPAo"
   },
   "outputs": [],
   "source": [
    "D_in = 1024\n",
    "D_out = 513\n",
    "\n",
    "model_p = torch.nn.Sequential(\n",
    "    torch.nn.Linear(D_in, 2 * D_in),\n",
    "    torch.nn.BatchNorm1d(2 * D_in),\n",
    "    torch.nn.ReLU(),\n",
    "    # torch.nn.Dropout(0.2),\n",
    "    torch.nn.Linear(2 * D_in, D_out),\n",
    "    # torch.nn.BatchNorm1d(D_out),\n",
    "    # torch.nn.ReLU(),\n",
    "    # torch.nn.Linear(D_out, D_out),\n",
    ")"
   ]
  },
  {
   "cell_type": "code",
   "execution_count": 188,
   "metadata": {},
   "outputs": [],
   "source": [
    "optimizerAdam_p = torch.optim.Adam(model_p.parameters(), lr=learning_rate)\n",
    "scheduler = torch.optim.lr_scheduler.MultiStepLR(optimizerAdam_p, milestones=[int(n_epochs / lr_decay) * (i+1) for i in range(lr_decay)], gamma=0.5)\n",
    "model_p = model_p.apply(init_weights)\n",
    "loss_fn = torch.nn.MSELoss()"
   ]
  },
  {
   "cell_type": "code",
   "execution_count": 192,
   "metadata": {},
   "outputs": [
    {
     "name": "stdout",
     "output_type": "stream",
     "text": [
      "Learning rate Decays will be at epochs: [33, 66, 99]\n"
     ]
    },
    {
     "name": "stderr",
     "output_type": "stream",
     "text": [
      "100%|███████████████████████████████████████████| 81/81 [00:03<00:00, 25.78it/s]\n"
     ]
    },
    {
     "name": "stdout",
     "output_type": "stream",
     "text": [
      "Epoch 0: \n",
      " MSE score - train: 3.564756393432617 | test: 4.1879987716674805 \n",
      " Loss - train: 3.5647976398468018 | test: 4.188000202178955\n"
     ]
    },
    {
     "name": "stderr",
     "output_type": "stream",
     "text": [
      "100%|███████████████████████████████████████████| 81/81 [00:03<00:00, 23.89it/s]\n"
     ]
    },
    {
     "name": "stdout",
     "output_type": "stream",
     "text": [
      "Epoch 1: \n",
      " MSE score - train: 3.549133777618408 | test: 4.197495937347412 \n",
      " Loss - train: 3.5491738319396973 | test: 4.197497367858887\n"
     ]
    },
    {
     "name": "stderr",
     "output_type": "stream",
     "text": [
      "100%|███████████████████████████████████████████| 81/81 [00:03<00:00, 23.63it/s]\n"
     ]
    },
    {
     "name": "stdout",
     "output_type": "stream",
     "text": [
      "Epoch 2: \n",
      " MSE score - train: 3.5327625274658203 | test: 4.204074382781982 \n",
      " Loss - train: 3.532804012298584 | test: 4.204076290130615\n"
     ]
    },
    {
     "name": "stderr",
     "output_type": "stream",
     "text": [
      "100%|███████████████████████████████████████████| 81/81 [00:03<00:00, 23.62it/s]\n"
     ]
    },
    {
     "name": "stdout",
     "output_type": "stream",
     "text": [
      "Epoch 3: \n",
      " MSE score - train: 3.516171932220459 | test: 4.209571838378906 \n",
      " Loss - train: 3.516211986541748 | test: 4.209573268890381\n"
     ]
    },
    {
     "name": "stderr",
     "output_type": "stream",
     "text": [
      "100%|███████████████████████████████████████████| 81/81 [00:03<00:00, 23.43it/s]\n"
     ]
    },
    {
     "name": "stdout",
     "output_type": "stream",
     "text": [
      "Epoch 4: \n",
      " MSE score - train: 3.4985227584838867 | test: 4.211935997009277 \n",
      " Loss - train: 3.498562812805176 | test: 4.211938381195068\n"
     ]
    },
    {
     "name": "stderr",
     "output_type": "stream",
     "text": [
      "100%|███████████████████████████████████████████| 81/81 [00:03<00:00, 23.52it/s]\n"
     ]
    },
    {
     "name": "stdout",
     "output_type": "stream",
     "text": [
      "Epoch 5: \n",
      " MSE score - train: 3.4802441596984863 | test: 4.210787296295166 \n",
      " Loss - train: 3.4802844524383545 | test: 4.210789203643799\n"
     ]
    },
    {
     "name": "stderr",
     "output_type": "stream",
     "text": [
      "100%|███████████████████████████████████████████| 81/81 [00:03<00:00, 23.59it/s]\n"
     ]
    },
    {
     "name": "stdout",
     "output_type": "stream",
     "text": [
      "Epoch 6: \n",
      " MSE score - train: 3.460700035095215 | test: 4.205982208251953 \n",
      " Loss - train: 3.4607391357421875 | test: 4.205984592437744\n"
     ]
    },
    {
     "name": "stderr",
     "output_type": "stream",
     "text": [
      "100%|███████████████████████████████████████████| 81/81 [00:03<00:00, 23.59it/s]\n"
     ]
    },
    {
     "name": "stdout",
     "output_type": "stream",
     "text": [
      "Epoch 7: \n",
      " MSE score - train: 3.4363627433776855 | test: 4.194469451904297 \n",
      " Loss - train: 3.436403274536133 | test: 4.194471836090088\n"
     ]
    },
    {
     "name": "stderr",
     "output_type": "stream",
     "text": [
      "100%|███████████████████████████████████████████| 81/81 [00:03<00:00, 23.35it/s]\n"
     ]
    },
    {
     "name": "stdout",
     "output_type": "stream",
     "text": [
      "Epoch 8: \n",
      " MSE score - train: 3.408278703689575 | test: 4.177202224731445 \n",
      " Loss - train: 3.4083173274993896 | test: 4.177204132080078\n"
     ]
    },
    {
     "name": "stderr",
     "output_type": "stream",
     "text": [
      "100%|███████████████████████████████████████████| 81/81 [00:03<00:00, 23.77it/s]\n"
     ]
    },
    {
     "name": "stdout",
     "output_type": "stream",
     "text": [
      "Epoch 9: \n",
      " MSE score - train: 3.3783390522003174 | test: 4.153700351715088 \n",
      " Loss - train: 3.378377676010132 | test: 4.153702735900879\n"
     ]
    },
    {
     "name": "stderr",
     "output_type": "stream",
     "text": [
      "100%|███████████████████████████████████████████| 81/81 [00:03<00:00, 23.51it/s]\n"
     ]
    },
    {
     "name": "stdout",
     "output_type": "stream",
     "text": [
      "Epoch 10: \n",
      " MSE score - train: 3.3440558910369873 | test: 4.123964786529541 \n",
      " Loss - train: 3.3440942764282227 | test: 4.123966693878174\n"
     ]
    },
    {
     "name": "stderr",
     "output_type": "stream",
     "text": [
      "100%|███████████████████████████████████████████| 81/81 [00:03<00:00, 23.18it/s]\n"
     ]
    },
    {
     "name": "stdout",
     "output_type": "stream",
     "text": [
      "Epoch 11: \n",
      " MSE score - train: 3.308243989944458 | test: 4.090172290802002 \n",
      " Loss - train: 3.308281660079956 | test: 4.090174674987793\n"
     ]
    },
    {
     "name": "stderr",
     "output_type": "stream",
     "text": [
      "100%|███████████████████████████████████████████| 81/81 [00:03<00:00, 23.39it/s]\n"
     ]
    },
    {
     "name": "stdout",
     "output_type": "stream",
     "text": [
      "Epoch 12: \n",
      " MSE score - train: 3.268150806427002 | test: 4.048813819885254 \n",
      " Loss - train: 3.268188953399658 | test: 4.048815727233887\n"
     ]
    },
    {
     "name": "stderr",
     "output_type": "stream",
     "text": [
      "100%|███████████████████████████████████████████| 81/81 [00:03<00:00, 23.45it/s]\n"
     ]
    },
    {
     "name": "stdout",
     "output_type": "stream",
     "text": [
      "Epoch 13: \n",
      " MSE score - train: 3.2223687171936035 | test: 3.9987902641296387 \n",
      " Loss - train: 3.2224066257476807 | test: 3.9987919330596924\n"
     ]
    },
    {
     "name": "stderr",
     "output_type": "stream",
     "text": [
      "100%|███████████████████████████████████████████| 81/81 [00:03<00:00, 23.55it/s]\n"
     ]
    },
    {
     "name": "stdout",
     "output_type": "stream",
     "text": [
      "Epoch 14: \n",
      " MSE score - train: 3.173099994659424 | test: 3.94219970703125 \n",
      " Loss - train: 3.17313551902771 | test: 3.9422013759613037\n"
     ]
    },
    {
     "name": "stderr",
     "output_type": "stream",
     "text": [
      "100%|███████████████████████████████████████████| 81/81 [00:03<00:00, 23.60it/s]\n"
     ]
    },
    {
     "name": "stdout",
     "output_type": "stream",
     "text": [
      "Epoch 15: \n",
      " MSE score - train: 3.117417812347412 | test: 3.8764994144439697 \n",
      " Loss - train: 3.11745548248291 | test: 3.8765008449554443\n"
     ]
    },
    {
     "name": "stderr",
     "output_type": "stream",
     "text": [
      "100%|███████████████████████████████████████████| 81/81 [00:03<00:00, 23.49it/s]\n"
     ]
    },
    {
     "name": "stdout",
     "output_type": "stream",
     "text": [
      "Epoch 16: \n",
      " MSE score - train: 3.0590479373931885 | test: 3.8064489364624023 \n",
      " Loss - train: 3.059084415435791 | test: 3.806450843811035\n"
     ]
    },
    {
     "name": "stderr",
     "output_type": "stream",
     "text": [
      "100%|███████████████████████████████████████████| 81/81 [00:03<00:00, 23.24it/s]\n"
     ]
    },
    {
     "name": "stdout",
     "output_type": "stream",
     "text": [
      "Epoch 17: \n",
      " MSE score - train: 2.9965691566467285 | test: 3.7302491664886475 \n",
      " Loss - train: 2.9966042041778564 | test: 3.7302513122558594\n"
     ]
    },
    {
     "name": "stderr",
     "output_type": "stream",
     "text": [
      "100%|███████████████████████████████████████████| 81/81 [00:03<00:00, 23.50it/s]\n"
     ]
    },
    {
     "name": "stdout",
     "output_type": "stream",
     "text": [
      "Epoch 18: \n",
      " MSE score - train: 2.930736541748047 | test: 3.648301362991333 \n",
      " Loss - train: 2.930772304534912 | test: 3.648303270339966\n"
     ]
    },
    {
     "name": "stderr",
     "output_type": "stream",
     "text": [
      "100%|███████████████████████████████████████████| 81/81 [00:03<00:00, 23.32it/s]\n"
     ]
    },
    {
     "name": "stdout",
     "output_type": "stream",
     "text": [
      "Epoch 19: \n",
      " MSE score - train: 2.8622305393218994 | test: 3.563234329223633 \n",
      " Loss - train: 2.862265110015869 | test: 3.5632359981536865\n"
     ]
    },
    {
     "name": "stderr",
     "output_type": "stream",
     "text": [
      "100%|███████████████████████████████████████████| 81/81 [00:03<00:00, 23.04it/s]\n"
     ]
    },
    {
     "name": "stdout",
     "output_type": "stream",
     "text": [
      "Epoch 20: \n",
      " MSE score - train: 2.7934842109680176 | test: 3.4760704040527344 \n",
      " Loss - train: 2.7935166358947754 | test: 3.476071834564209\n"
     ]
    },
    {
     "name": "stderr",
     "output_type": "stream",
     "text": [
      "100%|███████████████████████████████████████████| 81/81 [00:03<00:00, 23.07it/s]\n"
     ]
    },
    {
     "name": "stdout",
     "output_type": "stream",
     "text": [
      "Epoch 21: \n",
      " MSE score - train: 2.7220518589019775 | test: 3.3857717514038086 \n",
      " Loss - train: 2.7220852375030518 | test: 3.385772943496704\n"
     ]
    },
    {
     "name": "stderr",
     "output_type": "stream",
     "text": [
      "100%|███████████████████████████████████████████| 81/81 [00:03<00:00, 22.79it/s]\n"
     ]
    },
    {
     "name": "stdout",
     "output_type": "stream",
     "text": [
      "Epoch 22: \n",
      " MSE score - train: 2.6503396034240723 | test: 3.294501304626465 \n",
      " Loss - train: 2.6503725051879883 | test: 3.2945032119750977\n"
     ]
    },
    {
     "name": "stderr",
     "output_type": "stream",
     "text": [
      "100%|███████████████████████████████████████████| 81/81 [00:03<00:00, 23.24it/s]\n"
     ]
    },
    {
     "name": "stdout",
     "output_type": "stream",
     "text": [
      "Epoch 23: \n",
      " MSE score - train: 2.576697826385498 | test: 3.2003238201141357 \n",
      " Loss - train: 2.5767288208007812 | test: 3.200324773788452\n"
     ]
    },
    {
     "name": "stderr",
     "output_type": "stream",
     "text": [
      "100%|███████████████████████████████████████████| 81/81 [00:03<00:00, 22.87it/s]\n"
     ]
    },
    {
     "name": "stdout",
     "output_type": "stream",
     "text": [
      "Epoch 24: \n",
      " MSE score - train: 2.50412654876709 | test: 3.1079771518707275 \n",
      " Loss - train: 2.5041587352752686 | test: 3.1079788208007812\n"
     ]
    },
    {
     "name": "stderr",
     "output_type": "stream",
     "text": [
      "100%|███████████████████████████████████████████| 81/81 [00:03<00:00, 22.83it/s]\n"
     ]
    },
    {
     "name": "stdout",
     "output_type": "stream",
     "text": [
      "Epoch 25: \n",
      " MSE score - train: 2.429858922958374 | test: 3.011970043182373 \n",
      " Loss - train: 2.429889440536499 | test: 3.011971950531006\n"
     ]
    },
    {
     "name": "stderr",
     "output_type": "stream",
     "text": [
      "100%|███████████████████████████████████████████| 81/81 [00:03<00:00, 23.23it/s]\n"
     ]
    },
    {
     "name": "stdout",
     "output_type": "stream",
     "text": [
      "Epoch 26: \n",
      " MSE score - train: 2.354917287826538 | test: 2.916630983352661 \n",
      " Loss - train: 2.354948043823242 | test: 2.9166324138641357\n"
     ]
    },
    {
     "name": "stderr",
     "output_type": "stream",
     "text": [
      "100%|███████████████████████████████████████████| 81/81 [00:03<00:00, 22.71it/s]\n"
     ]
    },
    {
     "name": "stdout",
     "output_type": "stream",
     "text": [
      "Epoch 27: \n",
      " MSE score - train: 2.279330253601074 | test: 2.8199706077575684 \n",
      " Loss - train: 2.2793591022491455 | test: 2.819972038269043\n"
     ]
    },
    {
     "name": "stderr",
     "output_type": "stream",
     "text": [
      "100%|███████████████████████████████████████████| 81/81 [00:03<00:00, 22.68it/s]\n"
     ]
    },
    {
     "name": "stdout",
     "output_type": "stream",
     "text": [
      "Epoch 28: \n",
      " MSE score - train: 2.204486131668091 | test: 2.7241833209991455 \n",
      " Loss - train: 2.204514503479004 | test: 2.7241852283477783\n"
     ]
    },
    {
     "name": "stderr",
     "output_type": "stream",
     "text": [
      "100%|███████████████████████████████████████████| 81/81 [00:03<00:00, 22.95it/s]\n"
     ]
    },
    {
     "name": "stdout",
     "output_type": "stream",
     "text": [
      "Epoch 29: \n",
      " MSE score - train: 2.1342976093292236 | test: 2.6330196857452393 \n",
      " Loss - train: 2.1343250274658203 | test: 2.633021116256714\n"
     ]
    },
    {
     "name": "stderr",
     "output_type": "stream",
     "text": [
      "100%|███████████████████████████████████████████| 81/81 [00:03<00:00, 23.33it/s]\n"
     ]
    },
    {
     "name": "stdout",
     "output_type": "stream",
     "text": [
      "Epoch 30: \n",
      " MSE score - train: 2.0590426921844482 | test: 2.537105083465576 \n",
      " Loss - train: 2.0590691566467285 | test: 2.5371062755584717\n"
     ]
    },
    {
     "name": "stderr",
     "output_type": "stream",
     "text": [
      "100%|███████████████████████████████████████████| 81/81 [00:03<00:00, 22.93it/s]\n"
     ]
    },
    {
     "name": "stdout",
     "output_type": "stream",
     "text": [
      "Epoch 31: \n",
      " MSE score - train: 1.9874765872955322 | test: 2.4453558921813965 \n",
      " Loss - train: 1.9875024557113647 | test: 2.445356607437134\n"
     ]
    },
    {
     "name": "stderr",
     "output_type": "stream",
     "text": [
      "100%|███████████████████████████████████████████| 81/81 [00:03<00:00, 23.19it/s]\n"
     ]
    },
    {
     "name": "stdout",
     "output_type": "stream",
     "text": [
      "Epoch 32: \n",
      " MSE score - train: 1.9171549081802368 | test: 2.355811834335327 \n",
      " Loss - train: 1.917180061340332 | test: 2.3558127880096436\n",
      "\n",
      "Learning rate Decay\n"
     ]
    },
    {
     "name": "stderr",
     "output_type": "stream",
     "text": [
      "100%|███████████████████████████████████████████| 81/81 [00:03<00:00, 23.09it/s]\n"
     ]
    },
    {
     "name": "stdout",
     "output_type": "stream",
     "text": [
      "Epoch 33: \n",
      " MSE score - train: 1.880025863647461 | test: 2.31677508354187 \n",
      " Loss - train: 1.8800503015518188 | test: 2.3167760372161865\n"
     ]
    },
    {
     "name": "stderr",
     "output_type": "stream",
     "text": [
      "100%|███████████████████████████████████████████| 81/81 [00:03<00:00, 22.73it/s]\n"
     ]
    },
    {
     "name": "stdout",
     "output_type": "stream",
     "text": [
      "Epoch 34: \n",
      " MSE score - train: 1.8626099824905396 | test: 2.2968645095825195 \n",
      " Loss - train: 1.8626341819763184 | test: 2.296865701675415\n"
     ]
    },
    {
     "name": "stderr",
     "output_type": "stream",
     "text": [
      "100%|███████████████████████████████████████████| 81/81 [00:03<00:00, 23.03it/s]\n"
     ]
    },
    {
     "name": "stdout",
     "output_type": "stream",
     "text": [
      "Epoch 35: \n",
      " MSE score - train: 1.8472154140472412 | test: 2.2789080142974854 \n",
      " Loss - train: 1.8472397327423096 | test: 2.278909683227539\n"
     ]
    },
    {
     "name": "stderr",
     "output_type": "stream",
     "text": [
      "100%|███████████████████████████████████████████| 81/81 [00:03<00:00, 22.78it/s]\n"
     ]
    },
    {
     "name": "stdout",
     "output_type": "stream",
     "text": [
      "Epoch 36: \n",
      " MSE score - train: 1.8324631452560425 | test: 2.261093854904175 \n",
      " Loss - train: 1.8324874639511108 | test: 2.261094570159912\n"
     ]
    },
    {
     "name": "stderr",
     "output_type": "stream",
     "text": [
      "100%|███████████████████████████████████████████| 81/81 [00:03<00:00, 23.21it/s]\n"
     ]
    },
    {
     "name": "stdout",
     "output_type": "stream",
     "text": [
      "Epoch 37: \n",
      " MSE score - train: 1.817717432975769 | test: 2.243274211883545 \n",
      " Loss - train: 1.8177417516708374 | test: 2.2432754039764404\n"
     ]
    },
    {
     "name": "stderr",
     "output_type": "stream",
     "text": [
      "100%|███████████████████████████████████████████| 81/81 [00:03<00:00, 23.27it/s]\n"
     ]
    },
    {
     "name": "stdout",
     "output_type": "stream",
     "text": [
      "Epoch 38: \n",
      " MSE score - train: 1.8025497198104858 | test: 2.2246670722961426 \n",
      " Loss - train: 1.8025734424591064 | test: 2.224667549133301\n"
     ]
    },
    {
     "name": "stderr",
     "output_type": "stream",
     "text": [
      "100%|███████████████████████████████████████████| 81/81 [00:03<00:00, 23.53it/s]\n"
     ]
    },
    {
     "name": "stdout",
     "output_type": "stream",
     "text": [
      "Epoch 39: \n",
      " MSE score - train: 1.7878496646881104 | test: 2.20698881149292 \n",
      " Loss - train: 1.7878732681274414 | test: 2.2069900035858154\n"
     ]
    },
    {
     "name": "stderr",
     "output_type": "stream",
     "text": [
      "100%|███████████████████████████████████████████| 81/81 [00:03<00:00, 23.44it/s]\n"
     ]
    },
    {
     "name": "stdout",
     "output_type": "stream",
     "text": [
      "Epoch 40: \n",
      " MSE score - train: 1.7726401090621948 | test: 2.188425064086914 \n",
      " Loss - train: 1.7726631164550781 | test: 2.1884264945983887\n"
     ]
    },
    {
     "name": "stderr",
     "output_type": "stream",
     "text": [
      "100%|███████████████████████████████████████████| 81/81 [00:03<00:00, 23.49it/s]\n"
     ]
    },
    {
     "name": "stdout",
     "output_type": "stream",
     "text": [
      "Epoch 41: \n",
      " MSE score - train: 1.7578970193862915 | test: 2.170010566711426 \n",
      " Loss - train: 1.7579197883605957 | test: 2.1700117588043213\n"
     ]
    },
    {
     "name": "stderr",
     "output_type": "stream",
     "text": [
      "100%|███████████████████████████████████████████| 81/81 [00:03<00:00, 23.33it/s]\n"
     ]
    },
    {
     "name": "stdout",
     "output_type": "stream",
     "text": [
      "Epoch 42: \n",
      " MSE score - train: 1.7432806491851807 | test: 2.1519863605499268 \n",
      " Loss - train: 1.7433034181594849 | test: 2.151987314224243\n"
     ]
    },
    {
     "name": "stderr",
     "output_type": "stream",
     "text": [
      "100%|███████████████████████████████████████████| 81/81 [00:03<00:00, 23.34it/s]\n"
     ]
    },
    {
     "name": "stdout",
     "output_type": "stream",
     "text": [
      "Epoch 43: \n",
      " MSE score - train: 1.7282124757766724 | test: 2.1331465244293213 \n",
      " Loss - train: 1.728234887123108 | test: 2.1331472396850586\n"
     ]
    },
    {
     "name": "stderr",
     "output_type": "stream",
     "text": [
      "100%|███████████████████████████████████████████| 81/81 [00:03<00:00, 23.36it/s]\n"
     ]
    },
    {
     "name": "stdout",
     "output_type": "stream",
     "text": [
      "Epoch 44: \n",
      " MSE score - train: 1.7132915258407593 | test: 2.114680051803589 \n",
      " Loss - train: 1.7133139371871948 | test: 2.1146812438964844\n"
     ]
    },
    {
     "name": "stderr",
     "output_type": "stream",
     "text": [
      "100%|███████████████████████████████████████████| 81/81 [00:03<00:00, 23.36it/s]\n"
     ]
    },
    {
     "name": "stdout",
     "output_type": "stream",
     "text": [
      "Epoch 45: \n",
      " MSE score - train: 1.6980433464050293 | test: 2.095747232437134 \n",
      " Loss - train: 1.6980654001235962 | test: 2.09574818611145\n"
     ]
    },
    {
     "name": "stderr",
     "output_type": "stream",
     "text": [
      "100%|███████████████████████████████████████████| 81/81 [00:03<00:00, 23.38it/s]\n"
     ]
    },
    {
     "name": "stdout",
     "output_type": "stream",
     "text": [
      "Epoch 46: \n",
      " MSE score - train: 1.682746410369873 | test: 2.0767064094543457 \n",
      " Loss - train: 1.6827677488327026 | test: 2.076707124710083\n"
     ]
    },
    {
     "name": "stderr",
     "output_type": "stream",
     "text": [
      "100%|███████████████████████████████████████████| 81/81 [00:03<00:00, 23.67it/s]\n"
     ]
    },
    {
     "name": "stdout",
     "output_type": "stream",
     "text": [
      "Epoch 47: \n",
      " MSE score - train: 1.667994499206543 | test: 2.058607339859009 \n",
      " Loss - train: 1.668016791343689 | test: 2.058608293533325\n"
     ]
    },
    {
     "name": "stderr",
     "output_type": "stream",
     "text": [
      "100%|███████████████████████████████████████████| 81/81 [00:03<00:00, 23.44it/s]\n"
     ]
    },
    {
     "name": "stdout",
     "output_type": "stream",
     "text": [
      "Epoch 48: \n",
      " MSE score - train: 1.6524701118469238 | test: 2.039135217666626 \n",
      " Loss - train: 1.6524924039840698 | test: 2.0391361713409424\n"
     ]
    },
    {
     "name": "stderr",
     "output_type": "stream",
     "text": [
      "100%|███████████████████████████████████████████| 81/81 [00:03<00:00, 23.74it/s]\n"
     ]
    },
    {
     "name": "stdout",
     "output_type": "stream",
     "text": [
      "Epoch 49: \n",
      " MSE score - train: 1.6373906135559082 | test: 2.0203943252563477 \n",
      " Loss - train: 1.6374120712280273 | test: 2.020395278930664\n"
     ]
    },
    {
     "name": "stderr",
     "output_type": "stream",
     "text": [
      "100%|███████████████████████████████████████████| 81/81 [00:03<00:00, 23.73it/s]\n"
     ]
    },
    {
     "name": "stdout",
     "output_type": "stream",
     "text": [
      "Epoch 50: \n",
      " MSE score - train: 1.6215091943740845 | test: 2.000263214111328 \n",
      " Loss - train: 1.621530294418335 | test: 2.0002641677856445\n"
     ]
    },
    {
     "name": "stderr",
     "output_type": "stream",
     "text": [
      "100%|███████████████████████████████████████████| 81/81 [00:03<00:00, 23.50it/s]\n"
     ]
    },
    {
     "name": "stdout",
     "output_type": "stream",
     "text": [
      "Epoch 51: \n",
      " MSE score - train: 1.60621178150177 | test: 1.9812976121902466 \n",
      " Loss - train: 1.606232762336731 | test: 1.9812984466552734\n"
     ]
    },
    {
     "name": "stderr",
     "output_type": "stream",
     "text": [
      "100%|███████████████████████████████████████████| 81/81 [00:03<00:00, 23.73it/s]\n"
     ]
    },
    {
     "name": "stdout",
     "output_type": "stream",
     "text": [
      "Epoch 52: \n",
      " MSE score - train: 1.5910837650299072 | test: 1.9621413946151733 \n",
      " Loss - train: 1.5911051034927368 | test: 1.9621423482894897\n"
     ]
    },
    {
     "name": "stderr",
     "output_type": "stream",
     "text": [
      "100%|███████████████████████████████████████████| 81/81 [00:03<00:00, 23.69it/s]\n"
     ]
    },
    {
     "name": "stdout",
     "output_type": "stream",
     "text": [
      "Epoch 53: \n",
      " MSE score - train: 1.5757981538772583 | test: 1.942888855934143 \n",
      " Loss - train: 1.5758188962936401 | test: 1.9428895711898804\n"
     ]
    },
    {
     "name": "stderr",
     "output_type": "stream",
     "text": [
      "100%|███████████████████████████████████████████| 81/81 [00:03<00:00, 23.76it/s]\n"
     ]
    },
    {
     "name": "stdout",
     "output_type": "stream",
     "text": [
      "Epoch 54: \n",
      " MSE score - train: 1.560364842414856 | test: 1.9234888553619385 \n",
      " Loss - train: 1.5603848695755005 | test: 1.9234894514083862\n"
     ]
    },
    {
     "name": "stderr",
     "output_type": "stream",
     "text": [
      "100%|███████████████████████████████████████████| 81/81 [00:03<00:00, 23.66it/s]\n"
     ]
    },
    {
     "name": "stdout",
     "output_type": "stream",
     "text": [
      "Epoch 55: \n",
      " MSE score - train: 1.5447508096694946 | test: 1.903746247291565 \n",
      " Loss - train: 1.5447708368301392 | test: 1.9037469625473022\n"
     ]
    },
    {
     "name": "stderr",
     "output_type": "stream",
     "text": [
      "100%|███████████████████████████████████████████| 81/81 [00:03<00:00, 23.65it/s]\n"
     ]
    },
    {
     "name": "stdout",
     "output_type": "stream",
     "text": [
      "Epoch 56: \n",
      " MSE score - train: 1.5294831991195679 | test: 1.8847209215164185 \n",
      " Loss - train: 1.529503345489502 | test: 1.8847218751907349\n"
     ]
    },
    {
     "name": "stderr",
     "output_type": "stream",
     "text": [
      "100%|███████████████████████████████████████████| 81/81 [00:03<00:00, 23.85it/s]\n"
     ]
    },
    {
     "name": "stdout",
     "output_type": "stream",
     "text": [
      "Epoch 57: \n",
      " MSE score - train: 1.5137977600097656 | test: 1.8651256561279297 \n",
      " Loss - train: 1.5138176679611206 | test: 1.8651267290115356\n"
     ]
    },
    {
     "name": "stderr",
     "output_type": "stream",
     "text": [
      "100%|███████████████████████████████████████████| 81/81 [00:03<00:00, 23.97it/s]\n"
     ]
    },
    {
     "name": "stdout",
     "output_type": "stream",
     "text": [
      "Epoch 58: \n",
      " MSE score - train: 1.4988646507263184 | test: 1.8462839126586914 \n",
      " Loss - train: 1.4988847970962524 | test: 1.8462849855422974\n"
     ]
    },
    {
     "name": "stderr",
     "output_type": "stream",
     "text": [
      "100%|███████████████████████████████████████████| 81/81 [00:03<00:00, 23.42it/s]\n"
     ]
    },
    {
     "name": "stdout",
     "output_type": "stream",
     "text": [
      "Epoch 59: \n",
      " MSE score - train: 1.483276128768921 | test: 1.8264689445495605 \n",
      " Loss - train: 1.4832954406738281 | test: 1.8264695405960083\n"
     ]
    },
    {
     "name": "stderr",
     "output_type": "stream",
     "text": [
      "100%|███████████████████████████████████████████| 81/81 [00:03<00:00, 23.75it/s]\n"
     ]
    },
    {
     "name": "stdout",
     "output_type": "stream",
     "text": [
      "Epoch 60: \n",
      " MSE score - train: 1.4681848287582397 | test: 1.8075364828109741 \n",
      " Loss - train: 1.4682040214538574 | test: 1.8075371980667114\n"
     ]
    },
    {
     "name": "stderr",
     "output_type": "stream",
     "text": [
      "100%|███████████████████████████████████████████| 81/81 [00:03<00:00, 23.60it/s]\n"
     ]
    },
    {
     "name": "stdout",
     "output_type": "stream",
     "text": [
      "Epoch 61: \n",
      " MSE score - train: 1.4523504972457886 | test: 1.7875539064407349 \n",
      " Loss - train: 1.452369213104248 | test: 1.7875547409057617\n"
     ]
    },
    {
     "name": "stderr",
     "output_type": "stream",
     "text": [
      "100%|███████████████████████████████████████████| 81/81 [00:03<00:00, 23.49it/s]\n"
     ]
    },
    {
     "name": "stdout",
     "output_type": "stream",
     "text": [
      "Epoch 62: \n",
      " MSE score - train: 1.4374452829360962 | test: 1.7686201333999634 \n",
      " Loss - train: 1.4374645948410034 | test: 1.7686208486557007\n"
     ]
    },
    {
     "name": "stderr",
     "output_type": "stream",
     "text": [
      "100%|███████████████████████████████████████████| 81/81 [00:03<00:00, 23.67it/s]\n"
     ]
    },
    {
     "name": "stdout",
     "output_type": "stream",
     "text": [
      "Epoch 63: \n",
      " MSE score - train: 1.4218218326568604 | test: 1.7490229606628418 \n",
      " Loss - train: 1.4218405485153198 | test: 1.749023675918579\n"
     ]
    },
    {
     "name": "stderr",
     "output_type": "stream",
     "text": [
      "100%|███████████████████████████████████████████| 81/81 [00:03<00:00, 23.49it/s]\n"
     ]
    },
    {
     "name": "stdout",
     "output_type": "stream",
     "text": [
      "Epoch 64: \n",
      " MSE score - train: 1.406794548034668 | test: 1.7299957275390625 \n",
      " Loss - train: 1.4068129062652588 | test: 1.7299963235855103\n"
     ]
    },
    {
     "name": "stderr",
     "output_type": "stream",
     "text": [
      "100%|███████████████████████████████████████████| 81/81 [00:03<00:00, 23.72it/s]\n"
     ]
    },
    {
     "name": "stdout",
     "output_type": "stream",
     "text": [
      "Epoch 65: \n",
      " MSE score - train: 1.390657901763916 | test: 1.709747314453125 \n",
      " Loss - train: 1.3906759023666382 | test: 1.7097480297088623\n",
      "\n",
      "Learning rate Decay\n"
     ]
    },
    {
     "name": "stderr",
     "output_type": "stream",
     "text": [
      "100%|███████████████████████████████████████████| 81/81 [00:03<00:00, 23.57it/s]\n"
     ]
    },
    {
     "name": "stdout",
     "output_type": "stream",
     "text": [
      "Epoch 66: \n",
      " MSE score - train: 1.3843762874603271 | test: 1.7028135061264038 \n",
      " Loss - train: 1.3843952417373657 | test: 1.7028142213821411\n"
     ]
    },
    {
     "name": "stderr",
     "output_type": "stream",
     "text": [
      "100%|███████████████████████████████████████████| 81/81 [00:03<00:00, 23.35it/s]\n"
     ]
    },
    {
     "name": "stdout",
     "output_type": "stream",
     "text": [
      "Epoch 67: \n",
      " MSE score - train: 1.3812133073806763 | test: 1.6987916231155396 \n",
      " Loss - train: 1.3812320232391357 | test: 1.6987926959991455\n"
     ]
    },
    {
     "name": "stderr",
     "output_type": "stream",
     "text": [
      "100%|███████████████████████████████████████████| 81/81 [00:03<00:00, 23.42it/s]\n"
     ]
    },
    {
     "name": "stdout",
     "output_type": "stream",
     "text": [
      "Epoch 68: \n",
      " MSE score - train: 1.3780465126037598 | test: 1.6949357986450195 \n",
      " Loss - train: 1.3780649900436401 | test: 1.6949368715286255\n"
     ]
    },
    {
     "name": "stderr",
     "output_type": "stream",
     "text": [
      "100%|███████████████████████████████████████████| 81/81 [00:03<00:00, 23.54it/s]\n"
     ]
    },
    {
     "name": "stdout",
     "output_type": "stream",
     "text": [
      "Epoch 69: \n",
      " MSE score - train: 1.375062346458435 | test: 1.6910350322723389 \n",
      " Loss - train: 1.3750807046890259 | test: 1.6910359859466553\n"
     ]
    },
    {
     "name": "stderr",
     "output_type": "stream",
     "text": [
      "100%|███████████████████████████████████████████| 81/81 [00:03<00:00, 23.40it/s]\n"
     ]
    },
    {
     "name": "stdout",
     "output_type": "stream",
     "text": [
      "Epoch 70: \n",
      " MSE score - train: 1.3719487190246582 | test: 1.687331199645996 \n",
      " Loss - train: 1.37196683883667 | test: 1.6873321533203125\n"
     ]
    },
    {
     "name": "stderr",
     "output_type": "stream",
     "text": [
      "100%|███████████████████████████████████████████| 81/81 [00:03<00:00, 23.44it/s]\n"
     ]
    },
    {
     "name": "stdout",
     "output_type": "stream",
     "text": [
      "Epoch 71: \n",
      " MSE score - train: 1.3688814640045166 | test: 1.683608055114746 \n",
      " Loss - train: 1.3688995838165283 | test: 1.683608889579773\n"
     ]
    },
    {
     "name": "stderr",
     "output_type": "stream",
     "text": [
      "100%|███████████████████████████████████████████| 81/81 [00:03<00:00, 23.51it/s]\n"
     ]
    },
    {
     "name": "stdout",
     "output_type": "stream",
     "text": [
      "Epoch 72: \n",
      " MSE score - train: 1.3658392429351807 | test: 1.6797192096710205 \n",
      " Loss - train: 1.3658572435379028 | test: 1.679720163345337\n"
     ]
    },
    {
     "name": "stderr",
     "output_type": "stream",
     "text": [
      "100%|███████████████████████████████████████████| 81/81 [00:03<00:00, 23.59it/s]\n"
     ]
    },
    {
     "name": "stdout",
     "output_type": "stream",
     "text": [
      "Epoch 73: \n",
      " MSE score - train: 1.36279296875 | test: 1.6759190559387207 \n",
      " Loss - train: 1.3628108501434326 | test: 1.675920009613037\n"
     ]
    },
    {
     "name": "stderr",
     "output_type": "stream",
     "text": [
      "100%|███████████████████████████████████████████| 81/81 [00:03<00:00, 23.29it/s]\n"
     ]
    },
    {
     "name": "stdout",
     "output_type": "stream",
     "text": [
      "Epoch 74: \n",
      " MSE score - train: 1.3598138093948364 | test: 1.6720149517059326 \n",
      " Loss - train: 1.3598324060440063 | test: 1.6720155477523804\n"
     ]
    },
    {
     "name": "stderr",
     "output_type": "stream",
     "text": [
      "100%|███████████████████████████████████████████| 81/81 [00:03<00:00, 23.57it/s]\n"
     ]
    },
    {
     "name": "stdout",
     "output_type": "stream",
     "text": [
      "Epoch 75: \n",
      " MSE score - train: 1.3566679954528809 | test: 1.668155550956726 \n",
      " Loss - train: 1.3566861152648926 | test: 1.6681562662124634\n"
     ]
    },
    {
     "name": "stderr",
     "output_type": "stream",
     "text": [
      "100%|███████████████████████████████████████████| 81/81 [00:03<00:00, 23.08it/s]\n"
     ]
    },
    {
     "name": "stdout",
     "output_type": "stream",
     "text": [
      "Epoch 76: \n",
      " MSE score - train: 1.3536320924758911 | test: 1.6645519733428955 \n",
      " Loss - train: 1.3536505699157715 | test: 1.6645528078079224\n"
     ]
    },
    {
     "name": "stderr",
     "output_type": "stream",
     "text": [
      "100%|███████████████████████████████████████████| 81/81 [00:03<00:00, 23.23it/s]\n"
     ]
    },
    {
     "name": "stdout",
     "output_type": "stream",
     "text": [
      "Epoch 77: \n",
      " MSE score - train: 1.3507139682769775 | test: 1.6607176065444946 \n",
      " Loss - train: 1.3507320880889893 | test: 1.6607182025909424\n"
     ]
    },
    {
     "name": "stderr",
     "output_type": "stream",
     "text": [
      "100%|███████████████████████████████████████████| 81/81 [00:03<00:00, 23.48it/s]\n"
     ]
    },
    {
     "name": "stdout",
     "output_type": "stream",
     "text": [
      "Epoch 78: \n",
      " MSE score - train: 1.3475618362426758 | test: 1.6568396091461182 \n",
      " Loss - train: 1.3475799560546875 | test: 1.656840205192566\n"
     ]
    },
    {
     "name": "stderr",
     "output_type": "stream",
     "text": [
      "100%|███████████████████████████████████████████| 81/81 [00:03<00:00, 23.37it/s]\n"
     ]
    },
    {
     "name": "stdout",
     "output_type": "stream",
     "text": [
      "Epoch 79: \n",
      " MSE score - train: 1.3445487022399902 | test: 1.65309476852417 \n",
      " Loss - train: 1.3445664644241333 | test: 1.6530957221984863\n"
     ]
    },
    {
     "name": "stderr",
     "output_type": "stream",
     "text": [
      "100%|███████████████████████████████████████████| 81/81 [00:03<00:00, 23.42it/s]\n"
     ]
    },
    {
     "name": "stdout",
     "output_type": "stream",
     "text": [
      "Epoch 80: \n",
      " MSE score - train: 1.3415111303329468 | test: 1.6492489576339722 \n",
      " Loss - train: 1.341529369354248 | test: 1.6492494344711304\n"
     ]
    },
    {
     "name": "stderr",
     "output_type": "stream",
     "text": [
      "100%|███████████████████████████████████████████| 81/81 [00:03<00:00, 23.59it/s]\n"
     ]
    },
    {
     "name": "stdout",
     "output_type": "stream",
     "text": [
      "Epoch 81: \n",
      " MSE score - train: 1.3385741710662842 | test: 1.64552640914917 \n",
      " Loss - train: 1.338591456413269 | test: 1.6455271244049072\n"
     ]
    },
    {
     "name": "stderr",
     "output_type": "stream",
     "text": [
      "100%|███████████████████████████████████████████| 81/81 [00:03<00:00, 23.63it/s]\n"
     ]
    },
    {
     "name": "stdout",
     "output_type": "stream",
     "text": [
      "Epoch 82: \n",
      " MSE score - train: 1.3355464935302734 | test: 1.6416969299316406 \n",
      " Loss - train: 1.3355648517608643 | test: 1.641697645187378\n"
     ]
    },
    {
     "name": "stderr",
     "output_type": "stream",
     "text": [
      "100%|███████████████████████████████████████████| 81/81 [00:03<00:00, 23.59it/s]\n"
     ]
    },
    {
     "name": "stdout",
     "output_type": "stream",
     "text": [
      "Epoch 83: \n",
      " MSE score - train: 1.332464575767517 | test: 1.6380163431167603 \n",
      " Loss - train: 1.3324824571609497 | test: 1.6380170583724976\n"
     ]
    },
    {
     "name": "stderr",
     "output_type": "stream",
     "text": [
      "100%|███████████████████████████████████████████| 81/81 [00:03<00:00, 23.60it/s]\n"
     ]
    },
    {
     "name": "stdout",
     "output_type": "stream",
     "text": [
      "Epoch 84: \n",
      " MSE score - train: 1.329482078552246 | test: 1.634004831314087 \n",
      " Loss - train: 1.3294997215270996 | test: 1.6340057849884033\n"
     ]
    },
    {
     "name": "stderr",
     "output_type": "stream",
     "text": [
      "100%|███████████████████████████████████████████| 81/81 [00:03<00:00, 23.63it/s]\n"
     ]
    },
    {
     "name": "stdout",
     "output_type": "stream",
     "text": [
      "Epoch 85: \n",
      " MSE score - train: 1.3264434337615967 | test: 1.6301764249801636 \n",
      " Loss - train: 1.3264609575271606 | test: 1.6301771402359009\n"
     ]
    },
    {
     "name": "stderr",
     "output_type": "stream",
     "text": [
      "100%|███████████████████████████████████████████| 81/81 [00:03<00:00, 23.66it/s]\n"
     ]
    },
    {
     "name": "stdout",
     "output_type": "stream",
     "text": [
      "Epoch 86: \n",
      " MSE score - train: 1.3234180212020874 | test: 1.6265109777450562 \n",
      " Loss - train: 1.3234361410140991 | test: 1.6265119314193726\n"
     ]
    },
    {
     "name": "stderr",
     "output_type": "stream",
     "text": [
      "100%|███████████████████████████████████████████| 81/81 [00:03<00:00, 23.34it/s]\n"
     ]
    },
    {
     "name": "stdout",
     "output_type": "stream",
     "text": [
      "Epoch 87: \n",
      " MSE score - train: 1.3204678297042847 | test: 1.622761607170105 \n",
      " Loss - train: 1.3204857110977173 | test: 1.6227625608444214\n"
     ]
    },
    {
     "name": "stderr",
     "output_type": "stream",
     "text": [
      "100%|███████████████████████████████████████████| 81/81 [00:03<00:00, 23.52it/s]\n"
     ]
    },
    {
     "name": "stdout",
     "output_type": "stream",
     "text": [
      "Epoch 88: \n",
      " MSE score - train: 1.3174163103103638 | test: 1.618938684463501 \n",
      " Loss - train: 1.3174340724945068 | test: 1.6189395189285278\n"
     ]
    },
    {
     "name": "stderr",
     "output_type": "stream",
     "text": [
      "100%|███████████████████████████████████████████| 81/81 [00:03<00:00, 23.44it/s]\n"
     ]
    },
    {
     "name": "stdout",
     "output_type": "stream",
     "text": [
      "Epoch 89: \n",
      " MSE score - train: 1.3144131898880005 | test: 1.6151918172836304 \n",
      " Loss - train: 1.314431071281433 | test: 1.6151926517486572\n"
     ]
    },
    {
     "name": "stderr",
     "output_type": "stream",
     "text": [
      "100%|███████████████████████████████████████████| 81/81 [00:03<00:00, 23.37it/s]\n"
     ]
    },
    {
     "name": "stdout",
     "output_type": "stream",
     "text": [
      "Epoch 90: \n",
      " MSE score - train: 1.3114936351776123 | test: 1.6115005016326904 \n",
      " Loss - train: 1.3115112781524658 | test: 1.6115010976791382\n"
     ]
    },
    {
     "name": "stderr",
     "output_type": "stream",
     "text": [
      "100%|███████████████████████████████████████████| 81/81 [00:03<00:00, 23.44it/s]\n"
     ]
    },
    {
     "name": "stdout",
     "output_type": "stream",
     "text": [
      "Epoch 91: \n",
      " MSE score - train: 1.3084135055541992 | test: 1.6077083349227905 \n",
      " Loss - train: 1.308430790901184 | test: 1.6077091693878174\n"
     ]
    },
    {
     "name": "stderr",
     "output_type": "stream",
     "text": [
      "100%|███████████████████████████████████████████| 81/81 [00:03<00:00, 23.56it/s]\n"
     ]
    },
    {
     "name": "stdout",
     "output_type": "stream",
     "text": [
      "Epoch 92: \n",
      " MSE score - train: 1.3055686950683594 | test: 1.604174017906189 \n",
      " Loss - train: 1.3055862188339233 | test: 1.6041749715805054\n"
     ]
    },
    {
     "name": "stderr",
     "output_type": "stream",
     "text": [
      "100%|███████████████████████████████████████████| 81/81 [00:03<00:00, 23.21it/s]\n"
     ]
    },
    {
     "name": "stdout",
     "output_type": "stream",
     "text": [
      "Epoch 93: \n",
      " MSE score - train: 1.3025389909744263 | test: 1.600222110748291 \n",
      " Loss - train: 1.3025561571121216 | test: 1.6002227067947388\n"
     ]
    },
    {
     "name": "stderr",
     "output_type": "stream",
     "text": [
      "100%|███████████████████████████████████████████| 81/81 [00:03<00:00, 23.44it/s]\n"
     ]
    },
    {
     "name": "stdout",
     "output_type": "stream",
     "text": [
      "Epoch 94: \n",
      " MSE score - train: 1.2994450330734253 | test: 1.596419334411621 \n",
      " Loss - train: 1.2994627952575684 | test: 1.5964199304580688\n"
     ]
    },
    {
     "name": "stderr",
     "output_type": "stream",
     "text": [
      "100%|███████████████████████████████████████████| 81/81 [00:03<00:00, 23.55it/s]\n"
     ]
    },
    {
     "name": "stdout",
     "output_type": "stream",
     "text": [
      "Epoch 95: \n",
      " MSE score - train: 1.2965110540390015 | test: 1.5927116870880127 \n",
      " Loss - train: 1.2965284585952759 | test: 1.592712163925171\n"
     ]
    },
    {
     "name": "stderr",
     "output_type": "stream",
     "text": [
      "100%|███████████████████████████████████████████| 81/81 [00:03<00:00, 23.43it/s]\n"
     ]
    },
    {
     "name": "stdout",
     "output_type": "stream",
     "text": [
      "Epoch 96: \n",
      " MSE score - train: 1.2935410737991333 | test: 1.5889302492141724 \n",
      " Loss - train: 1.2935580015182495 | test: 1.5889309644699097\n"
     ]
    },
    {
     "name": "stderr",
     "output_type": "stream",
     "text": [
      "100%|███████████████████████████████████████████| 81/81 [00:03<00:00, 23.57it/s]\n"
     ]
    },
    {
     "name": "stdout",
     "output_type": "stream",
     "text": [
      "Epoch 97: \n",
      " MSE score - train: 1.290605068206787 | test: 1.5852771997451782 \n",
      " Loss - train: 1.2906221151351929 | test: 1.5852779150009155\n"
     ]
    },
    {
     "name": "stderr",
     "output_type": "stream",
     "text": [
      "100%|███████████████████████████████████████████| 81/81 [00:03<00:00, 23.71it/s]\n"
     ]
    },
    {
     "name": "stdout",
     "output_type": "stream",
     "text": [
      "Epoch 98: \n",
      " MSE score - train: 1.2875945568084717 | test: 1.5815311670303345 \n",
      " Loss - train: 1.2876116037368774 | test: 1.5815322399139404\n",
      "\n",
      "Learning rate Decay\n"
     ]
    },
    {
     "name": "stderr",
     "output_type": "stream",
     "text": [
      "100%|███████████████████████████████████████████| 81/81 [00:03<00:00, 23.24it/s]\n"
     ]
    },
    {
     "name": "stdout",
     "output_type": "stream",
     "text": [
      "Epoch 99: \n",
      " MSE score - train: 1.2861347198486328 | test: 1.5799039602279663 \n",
      " Loss - train: 1.2861518859863281 | test: 1.579904556274414\n"
     ]
    }
   ],
   "source": [
    "mse_train_all, loss_train_all, mse_test_all, loss_test_all = \\\n",
    "          train(\n",
    "              model_p, n_epochs, batch_size, loss_fn, \n",
    "              optimizerAdam_p, X_train, y_train, X_test, y_test, scheduler = None, lr_decay=3\n",
    "          )"
   ]
  },
  {
   "cell_type": "code",
   "execution_count": 193,
   "metadata": {},
   "outputs": [
    {
     "data": {
      "image/png": "[encoded data removed]",
      "text/plain": [
       "<Figure size 1600x400 with 2 Axes>"
      ]
     },
     "metadata": {},
     "output_type": "display_data"
    }
   ],
   "source": [
    "vis_history(mse_train_all, loss_train_all, mse_test_all, loss_test_all)"
   ]
  },
  {
   "cell_type": "code",
   "execution_count": 202,
   "metadata": {},
   "outputs": [],
   "source": [
    "def custom_periodogram(X, model):\n",
    "    if type(X).__name__ == 'ndarray':\n",
    "        A = torch.tensor(X.copy(), dtype=torch.float32)\n",
    "    else:\n",
    "        A = X.copy()\n",
    "    dim = A.ndim\n",
    "    if dim == 1:\n",
    "        A = A.view(1, A.size(0)) \n",
    "    model.eval()\n",
    "    ppx_decoded = model(torch.atleast_2d(A))\n",
    "    if type(X).__name__ == 'ndarray':\n",
    "        ans = ppx_decoded.detach().numpy()\n",
    "    else:\n",
    "        ans = ppx_decoded.detach()\n",
    "\n",
    "    if dim == 1:\n",
    "        return ans[0]\n",
    "    else:\n",
    "        return ans"
   ]
  },
  {
   "cell_type": "markdown",
   "metadata": {
    "id": "eZUr_fy6WxEI"
   },
   "source": [
    "### Провалидируйте свое решение"
   ]
  },
  {
   "cell_type": "markdown",
   "metadata": {
    "id": "brMFI4kTXLL_"
   },
   "source": [
    "*Примечание: Для сдачи достаточно качественного соответствия по форме спектра с пакетным решением*"
   ]
  },
  {
   "cell_type": "code",
   "execution_count": 204,
   "metadata": {
    "id": "e_vb2_cxVyWP"
   },
   "outputs": [],
   "source": [
    "rng = np.random.default_rng()\n",
    "fs = 10e3\n",
    "N = 1024\n",
    "amp = 2*np.sqrt(2)\n",
    "freq = 1234.0\n",
    "noise_power = 0.001 * fs / 2\n",
    "time = np.arange(N) / fs\n",
    "x = amp*np.sin(2*np.pi*freq*time)\n",
    "x += rng.normal(scale=np.sqrt(noise_power), size=time.shape)"
   ]
  },
  {
   "cell_type": "code",
   "execution_count": 209,
   "metadata": {},
   "outputs": [
    {
     "data": {
      "image/png": "[encoded data removed]",
      "text/plain": [
       "<Figure size 640x480 with 1 Axes>"
      ]
     },
     "metadata": {},
     "output_type": "display_data"
    }
   ],
   "source": [
    "f, Pxx_den = signal.periodogram(x)\n",
    "plt.semilogy(f, Pxx_den)\n",
    "plt.ylim([1e-7, 1e2])\n",
    "plt.xlabel('frequency [Hz]')\n",
    "plt.ylabel('PSD [V**2/Hz]')\n",
    "plt.show()"
   ]
  },
  {
   "cell_type": "code",
   "execution_count": 208,
   "metadata": {},
   "outputs": [
    {
     "data": {
      "image/png": "[encoded data removed]",
      "text/plain": [
       "<Figure size 640x480 with 1 Axes>"
      ]
     },
     "metadata": {},
     "output_type": "display_data"
    }
   ],
   "source": [
    "Pxx_den_c = custom_periodogram(x, model_p)\n",
    "plt.semilogy(f, Pxx_den)\n",
    "plt.ylim([1e-7, 1e2])\n",
    "plt.xlabel('frequency [Hz]')\n",
    "plt.ylabel('PSD [V**2/Hz]')\n",
    "plt.show()"
   ]
  },
  {
   "cell_type": "code",
   "execution_count": null,
   "metadata": {},
   "outputs": [],
   "source": []
  }
 ],
 "metadata": {
  "colab": {
   "collapsed_sections": [],
   "provenance": [],
   "toc_visible": true
  },
  "kernelspec": {
   "display_name": "Python 3 (ipykernel)",
   "language": "python",
   "name": "python3"
  },
  "language_info": {
   "codemirror_mode": {
    "name": "ipython",
    "version": 3
   },
   "file_extension": ".py",
   "mimetype": "text/x-python",
   "name": "python",
   "nbconvert_exporter": "python",
   "pygments_lexer": "ipython3",
   "version": "3.11.4"
  }
 },
 "nbformat": 4,
 "nbformat_minor": 4
}
