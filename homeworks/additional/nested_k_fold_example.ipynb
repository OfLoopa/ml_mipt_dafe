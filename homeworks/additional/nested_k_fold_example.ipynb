{
 "cells": [
  {
   "cell_type": "code",
   "execution_count": null,
   "id": "initial_id",
   "metadata": {
    "collapsed": true
   },
   "outputs": [],
   "source": [
    "from sklearn import datasets, svm\n",
    "from sklearn.model_selection import KFold, GridSearchCV\n",
    "\n",
    "iris = datasets.load_iris()\n",
    "\n",
    "# clf = svm.SVC()\n",
    "# clf.fit(X, y)\n",
    "estimators = []\n",
    "test_scores = []\n",
    "train_scores = []\n",
    "\n",
    "kf_outer = KFold(n_splits=2)\n",
    "for i, (train_index, test_index) in enumerate(kf.split(iris.data)):\n",
    "    parameters = {'kernel':('linear', 'rbf'), 'C':[1, 10]}\n",
    "    svc = svm.SVC()\n",
    "    clf = GridSearchCV(svc, parameters, cv=5)\n",
    "    clf.fit(iris.data[train_index], iris.target[train_index])\n",
    "    estimators.append(clf.best_estimator_)\n",
    "    test_scores.append(clf.score(iris.data[test_index], iris.target[test_index]))\n",
    "\n",
    "max_score = max(test_scores)\n",
    "max_score_index = test_scores.index(max_score)\n",
    "\n",
    "fitted_estim = estimators[max_score_index]\n",
    "\n",
    "fitted_estim.score(iris.data, iris.target)"
   ]
  }
 ],
 "metadata": {
  "kernelspec": {
   "display_name": "Python 3",
   "language": "python",
   "name": "python3"
  },
  "language_info": {
   "codemirror_mode": {
    "name": "ipython",
    "version": 2
   },
   "file_extension": ".py",
   "mimetype": "text/x-python",
   "name": "python",
   "nbconvert_exporter": "python",
   "pygments_lexer": "ipython2",
   "version": "2.7.6"
  }
 },
 "nbformat": 4,
 "nbformat_minor": 5
}
